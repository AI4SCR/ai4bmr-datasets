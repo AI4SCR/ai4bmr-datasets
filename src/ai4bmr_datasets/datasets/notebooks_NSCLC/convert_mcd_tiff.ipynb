{
 "cells": [
  {
   "cell_type": "code",
   "execution_count": 96,
   "metadata": {},
   "outputs": [],
   "source": [
    "import tifffile\n",
    "from tifffile import imwrite\n",
    "from pathlib import Path\n",
    "import numpy as np\n",
    "import pandas as pd\n",
    "\n",
    "from readimc import MCDFile, TXTFile\n",
    "\n",
    "from tempfile import TemporaryDirectory\n",
    "from typing import Any, Dict, Generator, List, Optional, Sequence, Tuple, Union\n",
    "\n",
    "import re\n",
    "from os import PathLike\n",
    "\n",
    "import tifffile\n",
    "from pathlib import Path\n",
    "from typing import List\n",
    "import numpy as np"
   ]
  },
  {
   "cell_type": "code",
   "execution_count": null,
   "metadata": {},
   "outputs": [],
   "source": []
  },
  {
   "cell_type": "code",
   "execution_count": null,
   "metadata": {},
   "outputs": [],
   "source": []
  },
  {
   "cell_type": "markdown",
   "metadata": {},
   "source": [
    "# Table of Contents\n",
    "1. [Generate Panel CSV](#generate-panel-csv)\n",
    "2. [Extract Some TIFF Informations](#extract-some-tiff-informations)\n",
    "3. [Extract TIFF from MCD](#extract-tiff-from-mcd)\n",
    "   - [Save the Image](#save-the-image)\n",
    "   - [Load the Image with its Stored Metadata](#load-the-image-with-its-stored-metadata)\n"
   ]
  },
  {
   "cell_type": "code",
   "execution_count": null,
   "metadata": {},
   "outputs": [],
   "source": []
  },
  {
   "cell_type": "markdown",
   "metadata": {},
   "source": [
    "# Generate Panel CSV"
   ]
  },
  {
   "cell_type": "code",
   "execution_count": 88,
   "metadata": {},
   "outputs": [],
   "source": [
    "def create_panels_from_mcd_file(mcd_file: Union[str, PathLike]) -> List[pd.DataFrame]:\n",
    "    panels = []\n",
    "    with MCDFile(mcd_file) as f:\n",
    "        i = 0\n",
    "        for slide in f.slides:\n",
    "            print('slide idx ', i)\n",
    "            j = 0\n",
    "            for acquisition in slide.acquisitions:\n",
    "                #print('acquisition idx ', j)\n",
    "                panel = pd.DataFrame(\n",
    "                    data={\n",
    "                        \"channel\": pd.Series(\n",
    "                            data=acquisition.channel_names,\n",
    "                            dtype=pd.StringDtype(),\n",
    "                        ),\n",
    "                        \"name\": pd.Series(\n",
    "                            data=acquisition.channel_labels,\n",
    "                            dtype=pd.StringDtype(),\n",
    "                        ),\n",
    "                    },\n",
    "                )\n",
    "                j += 1\n",
    "                panels.append(panel)\n",
    "            i += 1\n",
    "        #import pdb; pdb.set_trace()\n",
    "    return panels"
   ]
  },
  {
   "cell_type": "code",
   "execution_count": 89,
   "metadata": {},
   "outputs": [
    {
     "name": "stdout",
     "output_type": "stream",
     "text": [
      "slide idx  0\n",
      "check that the panels are the same\n"
     ]
    }
   ],
   "source": [
    "mcd_86_A_file = '/work/FAC/FBM/DBC/mrapsoma/prometex/data/NSCLC/01_raw/raw/mcd/86_A/2020115_LC_NSCLC_TMA_86_A.mcd'\n",
    "panels = create_panels_from_mcd_file(mcd_86_A_file)\n",
    "\n",
    "print('check that the panels are the same')\n",
    "for i in range(1, len(panels)):\n",
    "    assert panels[i].equals(panels[0]) \n",
    "    if not(panels[i].equals(panels[0])) : print('panel ', i, ' is different as panel 0')"
   ]
  },
  {
   "cell_type": "code",
   "execution_count": 92,
   "metadata": {},
   "outputs": [
    {
     "data": {
      "application/vnd.microsoft.datawrangler.viewer.v0+json": {
       "columns": [
        {
         "name": "index",
         "rawType": "int64",
         "type": "integer"
        },
        {
         "name": "channel",
         "rawType": "string",
         "type": "string"
        },
        {
         "name": "name",
         "rawType": "string",
         "type": "string"
        }
       ],
       "conversionMethod": "pd.DataFrame",
       "ref": "dbb73274-3f3a-43eb-9872-7bce63e9e726",
       "rows": [
        [
         "96",
         "Yb172",
         "CD31_1859((3370))Yb172"
        ]
       ],
       "shape": {
        "columns": 2,
        "rows": 1
       }
      },
      "text/html": [
       "<div>\n",
       "<style scoped>\n",
       "    .dataframe tbody tr th:only-of-type {\n",
       "        vertical-align: middle;\n",
       "    }\n",
       "\n",
       "    .dataframe tbody tr th {\n",
       "        vertical-align: top;\n",
       "    }\n",
       "\n",
       "    .dataframe thead th {\n",
       "        text-align: right;\n",
       "    }\n",
       "</style>\n",
       "<table border=\"1\" class=\"dataframe\">\n",
       "  <thead>\n",
       "    <tr style=\"text-align: right;\">\n",
       "      <th></th>\n",
       "      <th>channel</th>\n",
       "      <th>name</th>\n",
       "    </tr>\n",
       "  </thead>\n",
       "  <tbody>\n",
       "    <tr>\n",
       "      <th>96</th>\n",
       "      <td>Yb172</td>\n",
       "      <td>CD31_1859((3370))Yb172</td>\n",
       "    </tr>\n",
       "  </tbody>\n",
       "</table>\n",
       "</div>"
      ],
      "text/plain": [
       "   channel                    name\n",
       "96   Yb172  CD31_1859((3370))Yb172"
      ]
     },
     "execution_count": 92,
     "metadata": {},
     "output_type": "execute_result"
    }
   ],
   "source": [
    "panels[0][panels[0]['channel'] == 'Yb172']"
   ]
  },
  {
   "cell_type": "code",
   "execution_count": null,
   "metadata": {},
   "outputs": [],
   "source": []
  },
  {
   "cell_type": "markdown",
   "metadata": {},
   "source": [
    "# Extract Some TIFF Informations"
   ]
  },
  {
   "cell_type": "code",
   "execution_count": 19,
   "metadata": {},
   "outputs": [],
   "source": [
    "def extract_tiff_info(mcd_file):\n",
    "    \"\"\"\n",
    "    Extracts information from an MCD file, including the number of TIFF images,\n",
    "    the number of channels per image, and the channel names.\n",
    "\n",
    "    Args:\n",
    "        mcd_file (str or Path): Path to the MCD file.\n",
    "\n",
    "    Returns:\n",
    "        tuple: (num_tiff_images, channels_per_image, channel_names)\n",
    "    \"\"\"\n",
    "    mcd_file = Path(mcd_file)\n",
    "    if not mcd_file.is_file():\n",
    "        raise FileNotFoundError(f\"MCD file not found: {mcd_file}\")\n",
    "    \n",
    "    # Open the MCD file\n",
    "    with MCDFile(mcd_file) as mcd:\n",
    "        num_tiff_images = sum(len(slide.acquisitions) for slide in mcd.slides)\n",
    "        \n",
    "        if num_tiff_images == 0:\n",
    "            raise ValueError(\"No TIFF images found in the MCD file.\")\n",
    "        \n",
    "        # Extract number of channels from the first acquisition (assuming all are similar)\n",
    "        first_acq = mcd.slides[0].acquisitions[0]\n",
    "        channels_per_image = len(first_acq.channel_names)\n",
    "        channel_names = first_acq.channel_names\n",
    "        \n",
    "    return num_tiff_images, channels_per_image, channel_names"
   ]
  },
  {
   "cell_type": "code",
   "execution_count": 20,
   "metadata": {},
   "outputs": [
    {
     "data": {
      "text/plain": [
       "(95,\n",
       " 134,\n",
       " ['As75',\n",
       "  'Se76',\n",
       "  'Se77',\n",
       "  'Se78',\n",
       "  'ArAr80',\n",
       "  'Br81',\n",
       "  'Kr82',\n",
       "  'Kr83',\n",
       "  'Sr84',\n",
       "  'Rb85',\n",
       "  'Sr86',\n",
       "  'Sr87',\n",
       "  'Sr88',\n",
       "  'Y89',\n",
       "  'Zr90',\n",
       "  'Zr91',\n",
       "  'Zr92',\n",
       "  'Nb93',\n",
       "  'Mo94',\n",
       "  'Mo95',\n",
       "  'Mo96',\n",
       "  'Mo97',\n",
       "  'Mo98',\n",
       "  'Ru99',\n",
       "  'Ru100',\n",
       "  'Ru101',\n",
       "  'Ru102',\n",
       "  'Rh103',\n",
       "  'Pd104',\n",
       "  'Pd105',\n",
       "  'Pd106',\n",
       "  'Ag107',\n",
       "  'Cd108',\n",
       "  'Ag109',\n",
       "  'Cd110',\n",
       "  'Cd111',\n",
       "  'Cd112',\n",
       "  'In113',\n",
       "  'Cd114',\n",
       "  'In115',\n",
       "  'Sn116',\n",
       "  'Sn117',\n",
       "  'Sn118',\n",
       "  'Sn119',\n",
       "  'Sn120',\n",
       "  'Sb121',\n",
       "  'Te122',\n",
       "  'Te123',\n",
       "  'Te124',\n",
       "  'Te125',\n",
       "  'Te126',\n",
       "  'I127',\n",
       "  'Xe128',\n",
       "  'Xe129',\n",
       "  'Xe130',\n",
       "  'Xe131',\n",
       "  'Xe132',\n",
       "  'Cs133',\n",
       "  'Ba134',\n",
       "  'Ba135',\n",
       "  'Ba136',\n",
       "  'Ba137',\n",
       "  'Ba138',\n",
       "  'La139',\n",
       "  'Ce140',\n",
       "  'Pr141',\n",
       "  'Nd142',\n",
       "  'Nd143',\n",
       "  'Nd144',\n",
       "  'Nd145',\n",
       "  'Nd146',\n",
       "  'Sm147',\n",
       "  'Nd148',\n",
       "  'Sm149',\n",
       "  'Nd150',\n",
       "  'Eu151',\n",
       "  'Sm152',\n",
       "  'Eu153',\n",
       "  'Sm154',\n",
       "  'Gd155',\n",
       "  'Gd156',\n",
       "  'Gd157',\n",
       "  'Gd158',\n",
       "  'Tb159',\n",
       "  'Gd160',\n",
       "  'Dy161',\n",
       "  'Dy162',\n",
       "  'Dy163',\n",
       "  'Dy164',\n",
       "  'Ho165',\n",
       "  'Er166',\n",
       "  'Er167',\n",
       "  'Er168',\n",
       "  'Tm169',\n",
       "  'Er170',\n",
       "  'Yb171',\n",
       "  'Yb172',\n",
       "  'Yb173',\n",
       "  'Yb174',\n",
       "  'Lu175',\n",
       "  'Yb176',\n",
       "  'Hf177',\n",
       "  'Hf178',\n",
       "  'Hf179',\n",
       "  'Hf180',\n",
       "  'Ta181',\n",
       "  'W182',\n",
       "  'W183',\n",
       "  'W184',\n",
       "  'Re185',\n",
       "  'Os186',\n",
       "  'Os187',\n",
       "  'Os188',\n",
       "  'Os189',\n",
       "  'Os190',\n",
       "  'Ir191',\n",
       "  'Pt192',\n",
       "  'Ir193',\n",
       "  'Pt194',\n",
       "  'Pt195',\n",
       "  'Pt196',\n",
       "  'Au197',\n",
       "  'Hg198',\n",
       "  'Hg199',\n",
       "  'Hg200',\n",
       "  'Hg201',\n",
       "  'Hg202',\n",
       "  'Tl203',\n",
       "  'Pb204',\n",
       "  'Tl205',\n",
       "  'Pb206',\n",
       "  'Pb207',\n",
       "  'Pb208',\n",
       "  'Bi209'])"
      ]
     },
     "execution_count": 20,
     "metadata": {},
     "output_type": "execute_result"
    }
   ],
   "source": [
    "extract_tiff_info('/work/FAC/FBM/DBC/mrapsoma/prometex/data/NSCLC/01_raw/raw/mcd/86_A/2020115_LC_NSCLC_TMA_86_A.mcd')"
   ]
  },
  {
   "cell_type": "code",
   "execution_count": null,
   "metadata": {},
   "outputs": [],
   "source": []
  },
  {
   "cell_type": "markdown",
   "metadata": {},
   "source": [
    "# Extract TIFF from MCD"
   ]
  },
  {
   "cell_type": "code",
   "execution_count": null,
   "metadata": {},
   "outputs": [],
   "source": [
    "\n",
    "\n",
    "def extract_tiff_from_mcd(mcd_file, output_dir, raw_panel_path):\n",
    "\n",
    "    mcd_file = Path(mcd_file)\n",
    "    output_dir = Path(output_dir)\n",
    "    output_dir.mkdir(parents=True, exist_ok=True)\n",
    "    \n",
    "    if not mcd_file.is_file():\n",
    "        raise FileNotFoundError(f\"MCD file not found: {mcd_file}\")\n",
    "    \n",
    "    tiff_files = []\n",
    "    \n",
    "    # Open the MCD file\n",
    "    with MCDFile(mcd_file) as mcd:\n",
    "        num_tiff_images = sum(len(slide.acquisitions) for slide in mcd.slides)\n",
    "        \n",
    "        if num_tiff_images == 0:\n",
    "            raise ValueError(\"No TIFF images found in the MCD file.\")\n",
    "        \n",
    "        # Extract number of channels from the first acquisition (assuming all are similar)\n",
    "        first_acq = mcd.slides[0].acquisitions[0]\n",
    "        channels_per_image = len(first_acq.channel_names)\n",
    "        channel_names = first_acq.channel_names\n",
    "        \n",
    "        # Process each acquisition (similar to the try_preprocess_images_from_disk method)\n",
    "        for slide_idx, slide in enumerate(mcd.slides):\n",
    "\n",
    "            for acq_idx, acquisition in enumerate(slide.acquisitions):\n",
    "                print('acq_idx ', acq_idx)  \n",
    "\n",
    "                raw_panel = pd.read_csv('/work/FAC/FBM/DBC/mrapsoma/prometex/data/NSCLC/01_raw/raw/raw_panel.csv')\n",
    "\n",
    "                # channels to keep \n",
    "                panel_channels_to_keep = raw_panel[raw_panel['full'] == 1]\n",
    "\n",
    "                # Read the acquisition data, which includes all channels\n",
    "                img_all_channels = mcd.read_acquisition(acquisition, strict=False)\n",
    "\n",
    "                # mask acquisition layers and channels to keep , MASK RELATED TO IMAGE (mcd.read_acquisition(acquisition, strict=False)) ORDER \n",
    "                mask = [1 if name in panel_channels_to_keep['Metal Tag'].values else 0 for name in acquisition.channel_names]\n",
    "\n",
    "                import pdb; pdb.set_trace()\n",
    "\n",
    "                # verify the kept channels are 43, accordin to the proteins in the panel\n",
    "                assert np.sum(mask) == 43 and np.sum(mask) == len(panel_channels_to_keep), 'number of channels to keep is not 43'\n",
    "\n",
    "                # filtered image with the 43 relevant protein channels \n",
    "                img_filtered_channels = img_all_channels[np.array(mask, dtype=bool), :, :]\n",
    "\n",
    "                # mapping channels to protein \n",
    "                filtered_channel_protein_metal_tag = [element for element, m in zip(acquisition.channel_names, mask) if m == 1]\n",
    "\n",
    "                metal_to_target_mapping = dict(zip(raw_panel['Metal Tag'], raw_panel['Target']))\n",
    "                mapped_targets = {metal: metal_to_target_mapping.get(metal, \"No Target Found\") for metal in filtered_channel_protein_metal_tag}\n",
    "                mapped_df = pd.DataFrame(list(mapped_targets.items()), columns=['Metal Tag', 'Target'])\n",
    "\n",
    "                # metedata on protein name preparation\n",
    "                metadata = {f\"Layer {i+1}\": {\"Target\": mapped_df['Target'][i]} for i in range(len(mapped_df))}\n",
    "                # Convert metadata to a string format compatible with TIFF files\n",
    "                metadata_str = \"\\n\".join([f\"Layer {i+1}: {mapped_df['Target'][i]}\" for i in range(len(mapped_df))])\n",
    "\n",
    "\n",
    "                pattern = r'(\\d+[A-Z]?)\\b'\n",
    "                #match = re.search(pattern, str(mcd_file))\n",
    "                # TO DO use re \n",
    "                TMA_cell_pattern = str(mcd_file)[-8:-4]\n",
    "\n",
    "                # save ndarray as a multi-page TIFF file with metadata\n",
    "                imwrite(output_dir / f'{TMA_cell_pattern}_{acq_idx}.tiff', img_filtered_channels.astype(np.float32), metadata={'ImageDescription': metadata_str})\n",
    "\n",
    "                #import pdb; pdb.set_trace()\n",
    "\n",
    "\n"
   ]
  },
  {
   "cell_type": "code",
   "execution_count": null,
   "metadata": {},
   "outputs": [],
   "source": []
  },
  {
   "cell_type": "markdown",
   "metadata": {},
   "source": [
    "## Save the Image"
   ]
  },
  {
   "cell_type": "code",
   "execution_count": null,
   "metadata": {},
   "outputs": [
    {
     "name": "stdout",
     "output_type": "stream",
     "text": [
      "acq_idx  0\n",
      "> \u001b[0;32m/tmp/ipykernel_633065/828408393.py\u001b[0m(49)\u001b[0;36mextract_tiff_metadata\u001b[0;34m()\u001b[0m\n",
      "\u001b[0;32m     47 \u001b[0;31m\u001b[0;34m\u001b[0m\u001b[0m\n",
      "\u001b[0m\u001b[0;32m     48 \u001b[0;31m                \u001b[0;31m# verify the kept channels are 43, accordin to the proteins in the panel\u001b[0m\u001b[0;34m\u001b[0m\u001b[0;34m\u001b[0m\u001b[0m\n",
      "\u001b[0m\u001b[0;32m---> 49 \u001b[0;31m                \u001b[0;32massert\u001b[0m \u001b[0mnp\u001b[0m\u001b[0;34m.\u001b[0m\u001b[0msum\u001b[0m\u001b[0;34m(\u001b[0m\u001b[0mmask\u001b[0m\u001b[0;34m)\u001b[0m \u001b[0;34m==\u001b[0m \u001b[0;36m43\u001b[0m \u001b[0;32mand\u001b[0m \u001b[0mnp\u001b[0m\u001b[0;34m.\u001b[0m\u001b[0msum\u001b[0m\u001b[0;34m(\u001b[0m\u001b[0mmask\u001b[0m\u001b[0;34m)\u001b[0m \u001b[0;34m==\u001b[0m \u001b[0mlen\u001b[0m\u001b[0;34m(\u001b[0m\u001b[0mpanel_channels_to_keep\u001b[0m\u001b[0;34m)\u001b[0m\u001b[0;34m,\u001b[0m \u001b[0;34m'number of channels to keep is not 43'\u001b[0m\u001b[0;34m\u001b[0m\u001b[0;34m\u001b[0m\u001b[0m\n",
      "\u001b[0m\u001b[0;32m     50 \u001b[0;31m\u001b[0;34m\u001b[0m\u001b[0m\n",
      "\u001b[0m\u001b[0;32m     51 \u001b[0;31m                \u001b[0;31m# filtered image with the 43 relevant protein channels\u001b[0m\u001b[0;34m\u001b[0m\u001b[0;34m\u001b[0m\u001b[0m\n",
      "\u001b[0m\n",
      "['As75', 'Se76', 'Se77', 'Se78', 'ArAr80', 'Br81', 'Kr82', 'Kr83', 'Sr84', 'Rb85', 'Sr86', 'Sr87', 'Sr88', 'Y89', 'Zr90', 'Zr91', 'Zr92', 'Nb93', 'Mo94', 'Mo95', 'Mo96', 'Mo97', 'Mo98', 'Ru99', 'Ru100', 'Ru101', 'Ru102', 'Rh103', 'Pd104', 'Pd105', 'Pd106', 'Ag107', 'Cd108', 'Ag109', 'Cd110', 'Cd111', 'Cd112', 'In113', 'Cd114', 'In115', 'Sn116', 'Sn117', 'Sn118', 'Sn119', 'Sn120', 'Sb121', 'Te122', 'Te123', 'Te124', 'Te125', 'Te126', 'I127', 'Xe128', 'Xe129', 'Xe130', 'Xe131', 'Xe132', 'Cs133', 'Ba134', 'Ba135', 'Ba136', 'Ba137', 'Ba138', 'La139', 'Ce140', 'Pr141', 'Nd142', 'Nd143', 'Nd144', 'Nd145', 'Nd146', 'Sm147', 'Nd148', 'Sm149', 'Nd150', 'Eu151', 'Sm152', 'Eu153', 'Sm154', 'Gd155', 'Gd156', 'Gd157', 'Gd158', 'Tb159', 'Gd160', 'Dy161', 'Dy162', 'Dy163', 'Dy164', 'Ho165', 'Er166', 'Er167', 'Er168', 'Tm169', 'Er170', 'Yb171', 'Yb172', 'Yb173', 'Yb174', 'Lu175', 'Yb176', 'Hf177', 'Hf178', 'Hf179', 'Hf180', 'Ta181', 'W182', 'W183', 'W184', 'Re185', 'Os186', 'Os187', 'Os188', 'Os189', 'Os190', 'Ir191', 'Pt192', 'Ir193', 'Pt194', 'Pt195', 'Pt196', 'Au197', 'Hg198', 'Hg199', 'Hg200', 'Hg201', 'Hg202', 'Tl203', 'Pb204', 'Tl205', 'Pb206', 'Pb207', 'Pb208', 'Bi209']\n",
      "134\n",
      "134\n",
      "['75As', '76Se', '77Se', '78Se', '80ArAr', '81Br', '82Kr', '83Kr', '84Sr', '85Rb', '86Sr', '87Sr', '88Sr', 'Myelope_276((2996))Y89', '90Zr', '91Zr', '92Zr', '93Nb', '94Mo', '95Mo', '96Mo', '97Mo', '98Mo', '99Ru', '100Ru', '101Ru', '102Ru', '103Rh', '104Pd', '105Pd', '106Pd', '107Ag', '108Cd', '109Ag', '110Cd', '111Cd', '112Cd', 'FSP1 S1_2263((3411))In113', '114Cd', 'SMA_174((3277))In115', '116Sn', '117Sn', '118Sn', '119Sn', '120Sn', '121Sb', '122Te', '123Te', '124Te', '125Te', '126Te', '127I', '128Xe', '129Xe', '130Xe', '131Xe', '132Xe', '133Cs', '134Ba', '135Ba', '136Ba', '137Ba', '138Ba', '139La', '140Ce', 'Histone_126((2797))Pr141', 'fap_323((3412))Nd142', 'HLA-DR_1849((3362))Nd143', 'CD146_22((3259))Nd144', 'Cadheri_2088((2893))Nd145', 'Carboni_2443((2757))Nd146', 'Collage_1360((2568))Sm147', 'VCAM1_1986((3332))Nd148', 'CD20_36((3369))Sm149', 'CD68_77((3413))Nd150', 'Indolea_2281((3014))Eu151', 'CD3_1841((3363))Sm152', 'Podopla_1463((2619))Eu153', 'MMP11_2925((3364))Sm154', 'CD279(P_1743((3414))Gd155', 'CD73_2193((3319))Gd156', '157Gd', 'MMP9_2241((2912))Gd158', 'p75(CD2_1840((2193))Tb159', 'TCF1TCF_2221((3415))Gd160', 'CD10_2546((3029))Dy161', 'Vimenti_655((1939))Dy162', 'FOXP3_115((2911))Dy163', 'CD45RA_732((2896))Dy164', 'PNAd_1981((3323))Ho165', 'CD8a_1718((2991))Er166', 'CD248 E_2178((2830))Er167', 'LYVE-1_1982((2881))Er168', 'CD140b(_1938((2914))Tm169', 'CD34_2254((3337))Er170', 'CD4_2293((3000))Yb171', 'CD31_1859((3370))Yb172', 'anti-Hu_1950((2832))Yb173', 'CCL21 6_2177((2889))Yb174', 'panCyto_234((2745))Lu175', 'K-Cadhe_2600((3417))Yb176', '177Hf', '178Hf', '179Hf', '180Hf', '181Ta', '182W', '183W', '184W', '185Re', '186Os', '187Os', '188Os', '189Os', '190Os', 'Iridium_1033((1253))Ir191', '192Pt', 'Iridium_1033((1254))Ir193', 'Ki-67_142((3418))Pt194', 'Caveoli_1945((2899))Pt195', '196Pt', '197Au', '198Hg', '199Hg', '200Hg', '201Hg', '202Hg', '203Tl', '204Pb', '205Tl', '206Pb', '207Pb', '208Pb', 'CD15_627((2997))Bi209']\n"
     ]
    }
   ],
   "source": [
    "raw_panel_path = '/work/FAC/FBM/DBC/mrapsoma/prometex/data/NSCLC/01_raw/raw/raw_panel.csv'\n",
    "\n",
    "extract_tiff_from_mcd('/work/FAC/FBM/DBC/mrapsoma/prometex/data/NSCLC/01_raw/raw/mcd/86_A/2020115_LC_NSCLC_TMA_86_A.mcd', '', raw_panel_path)"
   ]
  },
  {
   "cell_type": "code",
   "execution_count": null,
   "metadata": {},
   "outputs": [],
   "source": []
  },
  {
   "cell_type": "markdown",
   "metadata": {},
   "source": [
    "## Load the Image with its Stored Metadata"
   ]
  },
  {
   "cell_type": "code",
   "execution_count": 87,
   "metadata": {},
   "outputs": [
    {
     "data": {
      "text/plain": [
       "array([[[0.       , 0.       , 0.       , ..., 0.       , 1.       ,\n",
       "         0.       ],\n",
       "        [0.       , 0.       , 0.       , ..., 0.       , 0.       ,\n",
       "         0.       ],\n",
       "        [0.       , 0.       , 0.       , ..., 0.       , 0.       ,\n",
       "         0.       ],\n",
       "        ...,\n",
       "        [0.       , 0.       , 0.       , ..., 0.       , 0.       ,\n",
       "         0.       ],\n",
       "        [0.       , 0.       , 0.       , ..., 0.       , 0.       ,\n",
       "         0.       ],\n",
       "        [0.       , 0.       , 0.       , ..., 0.       , 0.       ,\n",
       "         0.       ]],\n",
       "\n",
       "       [[0.       , 0.       , 0.       , ..., 0.       , 0.       ,\n",
       "         0.       ],\n",
       "        [0.       , 0.       , 0.       , ..., 0.       , 0.       ,\n",
       "         0.       ],\n",
       "        [0.       , 0.       , 0.       , ..., 0.       , 0.       ,\n",
       "         0.       ],\n",
       "        ...,\n",
       "        [0.       , 0.       , 0.       , ..., 0.       , 0.       ,\n",
       "         0.       ],\n",
       "        [0.       , 0.       , 0.       , ..., 0.       , 0.       ,\n",
       "         0.       ],\n",
       "        [0.       , 0.       , 0.       , ..., 2.444483 , 0.       ,\n",
       "         0.       ]],\n",
       "\n",
       "       [[0.       , 0.       , 0.       , ..., 0.       , 0.       ,\n",
       "         0.       ],\n",
       "        [0.       , 0.       , 0.       , ..., 0.       , 0.       ,\n",
       "         0.       ],\n",
       "        [0.       , 0.       , 0.       , ..., 0.       , 0.       ,\n",
       "         0.       ],\n",
       "        ...,\n",
       "        [0.       , 0.       , 0.       , ..., 0.       , 0.       ,\n",
       "         0.       ],\n",
       "        [0.       , 0.       , 0.       , ..., 0.       , 0.       ,\n",
       "         0.       ],\n",
       "        [0.       , 0.       , 0.       , ..., 0.       , 0.       ,\n",
       "         0.       ]],\n",
       "\n",
       "       ...,\n",
       "\n",
       "       [[0.       , 0.       , 0.       , ..., 0.       , 0.       ,\n",
       "         0.       ],\n",
       "        [0.       , 0.       , 0.       , ..., 0.       , 0.       ,\n",
       "         0.       ],\n",
       "        [0.       , 0.       , 0.       , ..., 0.       , 0.       ,\n",
       "         0.       ],\n",
       "        ...,\n",
       "        [0.       , 0.       , 0.       , ..., 0.       , 0.       ,\n",
       "         0.       ],\n",
       "        [0.       , 0.       , 0.       , ..., 0.       , 0.       ,\n",
       "         0.       ],\n",
       "        [0.       , 0.       , 0.       , ..., 0.       , 0.       ,\n",
       "         0.       ]],\n",
       "\n",
       "       [[0.       , 0.       , 0.       , ..., 0.       , 0.       ,\n",
       "         0.       ],\n",
       "        [0.       , 0.       , 0.       , ..., 0.       , 0.       ,\n",
       "         0.       ],\n",
       "        [0.       , 0.       , 0.       , ..., 0.       , 0.       ,\n",
       "         0.       ],\n",
       "        ...,\n",
       "        [0.       , 2.159179 , 0.       , ..., 0.       , 0.       ,\n",
       "         0.       ],\n",
       "        [0.       , 0.       , 0.       , ..., 0.       , 0.       ,\n",
       "         0.       ],\n",
       "        [0.       , 0.       , 0.       , ..., 0.       , 0.       ,\n",
       "         0.       ]],\n",
       "\n",
       "       [[0.       , 0.       , 0.       , ..., 0.       , 0.       ,\n",
       "         0.       ],\n",
       "        [0.       , 0.       , 0.       , ..., 0.       , 0.       ,\n",
       "         0.       ],\n",
       "        [0.       , 0.       , 0.       , ..., 0.       , 0.       ,\n",
       "         0.       ],\n",
       "        ...,\n",
       "        [0.       , 0.       , 0.       , ..., 0.       , 1.0775642,\n",
       "         0.       ],\n",
       "        [0.       , 0.       , 0.       , ..., 0.       , 0.       ,\n",
       "         0.       ],\n",
       "        [0.       , 0.       , 0.       , ..., 0.       , 0.       ,\n",
       "         0.       ]]], dtype=float32)"
      ]
     },
     "execution_count": 87,
     "metadata": {},
     "output_type": "execute_result"
    }
   ],
   "source": [
    "from skimage import io\n",
    "\n",
    "io.imread('/work/FAC/FBM/DBC/mrapsoma/prometex/data/NSCLC/02_processed/tiff_imgs/178_B_7.tiff')"
   ]
  },
  {
   "cell_type": "code",
   "execution_count": 93,
   "metadata": {},
   "outputs": [
    {
     "name": "stdout",
     "output_type": "stream",
     "text": [
      "Available tags in the TIFF file:\n",
      "ImageWidth\n",
      "ImageLength\n",
      "BitsPerSample\n",
      "Compression\n",
      "PhotometricInterpretation\n",
      "ImageDescription\n",
      "StripOffsets\n",
      "SamplesPerPixel\n",
      "RowsPerStrip\n",
      "StripByteCounts\n",
      "XResolution\n",
      "YResolution\n",
      "ResolutionUnit\n",
      "Software\n",
      "SampleFormat\n",
      "\n",
      "Metadata (ImageDescription) from TIFF file:\n",
      "{\"ImageDescription\": \"Layer 1: Myeloperoxidase MPO\\nLayer 2: FSP1 / S100A4\\nLayer 3: SMA\\nLayer 4: Histone H3\\nLayer 5: fap\\nLayer 6: HLA-DR\\nLayer 7: CD146\\nLayer 8: Cadherin-11\\nLayer 9: Carbonic Anhydrase IX\\nLayer 10: Fibronectin\\nLayer 11: VCAM1\\nLayer 12: CD20\\nLayer 13: CD68\\nLayer 14: Indoleamine 2- 3-dioxygenase (IDO)\\nLayer 15: CD3\\nLayer 16: Podoplanin\\nLayer 17: MMP11\\nLayer 18: CD279 (PD-1)\\nLayer 19: CD73\\nLayer 20: MMP9\\nLayer 21: p75 (CD271)\\nLayer 22: TCF1/TCF7\\nLayer 23: CD10\\nLayer 24: Vimentin\\nLayer 25: FOXP3\\nLayer 26: CD45RO\\nLayer 27: PNAd\\nLayer 28: CD8a\\nLayer 29: CD248 / Endosialin\\nLayer 30: LYVE-1\\nLayer 31: CD140b (PDGF Receptor beta)\\nLayer 32: CD34\\nLayer 33: CD4\\nLayer 34: CD31\\nLayer 35: anti-Human CXCL12 / SDF-1\\nLayer 36: CCL21 / 6Ckine\\nLayer 37: Keratin Epithelial\\nLayer 38: K-Cadherin / CDH6\\nLayer 39: Iridium\\nLayer 40: Iridium\\nLayer 41: Ki-67\\nLayer 42: Caveolin-1\\nLayer 43: CD15\", \"shape\": [43, 721, 676]}\n",
      "\n",
      "Shape of the image: (43, 721, 676)\n"
     ]
    }
   ],
   "source": [
    "import tifffile\n",
    "\n",
    "# Load the TIFF file\n",
    "tiff_file_path = \"86_A_0.tiff\"\n",
    "with tifffile.TiffFile(tiff_file_path) as tif:\n",
    "    # Read the image data (the actual 3D array)\n",
    "    image_data = tif.asarray()\n",
    "    \n",
    "    # List all available tags for the first page (the metadata might be in one of these)\n",
    "    print(\"Available tags in the TIFF file:\")\n",
    "    for tag in tif.pages[0].tags.values():\n",
    "        print(tag.name)\n",
    "    \n",
    "    # Extract the metadata if it's available\n",
    "    if 'ImageDescription' in tif.pages[0].tags:\n",
    "        description = tif.pages[0].tags['ImageDescription'].value\n",
    "        print(\"\\nMetadata (ImageDescription) from TIFF file:\")\n",
    "        print(description)\n",
    "    else:\n",
    "        print(\"\\n'Contain Description' tag not found in this TIFF file.\")\n",
    "    \n",
    "# You can also manipulate the image data\n",
    "print(f\"\\nShape of the image: {image_data.shape}\")\n"
   ]
  },
  {
   "cell_type": "code",
   "execution_count": null,
   "metadata": {},
   "outputs": [],
   "source": []
  },
  {
   "cell_type": "code",
   "execution_count": null,
   "metadata": {},
   "outputs": [],
   "source": []
  },
  {
   "cell_type": "code",
   "execution_count": null,
   "metadata": {},
   "outputs": [],
   "source": []
  }
 ],
 "metadata": {
  "kernelspec": {
   "display_name": "source_env",
   "language": "python",
   "name": "python3"
  },
  "language_info": {
   "codemirror_mode": {
    "name": "ipython",
    "version": 3
   },
   "file_extension": ".py",
   "mimetype": "text/x-python",
   "name": "python",
   "nbconvert_exporter": "python",
   "pygments_lexer": "ipython3",
   "version": "3.11.11"
  }
 },
 "nbformat": 4,
 "nbformat_minor": 2
}
