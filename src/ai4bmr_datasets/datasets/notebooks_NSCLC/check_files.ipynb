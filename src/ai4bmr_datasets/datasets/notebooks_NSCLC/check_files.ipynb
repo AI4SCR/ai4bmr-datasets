{
 "cells": [
  {
   "cell_type": "code",
   "execution_count": 1,
   "metadata": {},
   "outputs": [],
   "source": [
    "import pandas as pd\n",
    "import numpy as np  \n",
    "\n",
    "from readimc import MCDFile, TXTFile\n",
    "\n",
    "import anndata\n",
    "import pickle\n",
    "\n",
    "from imread import imread, imsave\n",
    "import re\n",
    "import os"
   ]
  },
  {
   "cell_type": "code",
   "execution_count": 1,
   "metadata": {},
   "outputs": [],
   "source": [
    "%reset -f"
   ]
  },
  {
   "cell_type": "code",
   "execution_count": null,
   "metadata": {},
   "outputs": [],
   "source": []
  },
  {
   "cell_type": "markdown",
   "metadata": {},
   "source": [
    "# Table of Contents\n",
    "\n",
    "1. [Store Patient and Sample IDs](#1.-Store-Patient-and-Sample-IDs)\n",
    "2. [Store Mask IDs](#2.-Store-Mask-IDs)\n",
    "3. [Store Image IDs](#3.-Store-Image-IDs)\n",
    "4. [Check identical masks](#4.-Check-identical-masks)"
   ]
  },
  {
   "cell_type": "markdown",
   "metadata": {},
   "source": [
    "# 1. Store Patient and Sample IDs"
   ]
  },
  {
   "cell_type": "markdown",
   "metadata": {},
   "source": [
    "Store sample IDs based on the sce object "
   ]
  },
  {
   "cell_type": "code",
   "execution_count": 2,
   "metadata": {},
   "outputs": [],
   "source": [
    "ad = anndata.read_h5ad('/work/FAC/FBM/DBC/mrapsoma/prometex/data/NSCLC/02_processed/sce_objects/sce.h5ad')"
   ]
  },
  {
   "cell_type": "code",
   "execution_count": 5,
   "metadata": {},
   "outputs": [],
   "source": [
    "# create column in anndata obs with sample id based on TmaID TmaBlock and acID\n",
    "ad.obs[\"sample_ID\"] = ad.obs[\"TmaID\"].astype(str) + \"_\" + ad.obs[\"TmaBlock\"].astype(str) + \"_\" + ad.obs[\"acID\"].astype(str)"
   ]
  },
  {
   "cell_type": "code",
   "execution_count": 6,
   "metadata": {},
   "outputs": [
    {
     "data": {
      "text/plain": [
       "2072"
      ]
     },
     "execution_count": 6,
     "metadata": {},
     "output_type": "execute_result"
    }
   ],
   "source": [
    "len(np.unique(ad.obs['sample_ID']))"
   ]
  },
  {
   "cell_type": "code",
   "execution_count": 7,
   "metadata": {},
   "outputs": [
    {
     "data": {
      "text/plain": [
       "Index(['ImageNumber', 'CellNumber', 'Center_X', 'Center_Y', 'Area',\n",
       "       'MajorAxisLength', 'MinorAxisLength', 'Compartment', 'Area_Description',\n",
       "       'BatchID', 'Panel', 'TmaID', 'TmaBlock', 'acID', 'CellID', 'mclust',\n",
       "       'TMA', 'Tma_ac', 'cell_category', 'cell_type', 'cell_subtype', 'ROI_xy',\n",
       "       'RoiID', 'Patient_Nr', 'X..spots', 'DX.name', 'x.y.localisation', 'Age',\n",
       "       'Gender', 'Typ', 'Grade', 'Size', 'Vessel', 'Pleura', 'T.new', 'N',\n",
       "       'M.new', 'Stage', 'R', 'Chemo', 'Radio', 'Chemo3', 'Radio4', 'Relapse',\n",
       "       'Chemo5', 'Radio6', 'DFS', 'Ev.O', 'OS', 'Smok', 'Nikotin', 'ROI',\n",
       "       'Patient_ID', 'LN.Met', 'Dist.Met', 'NeoAdj', 'Area_px_Stroma',\n",
       "       'Area_px_Tumour', 'Area_px_Core', 'Area_mm_Stroma', 'Area_mm_Tumour',\n",
       "       'Area_mm_Core', 'sample_ID'],\n",
       "      dtype='object')"
      ]
     },
     "execution_count": 7,
     "metadata": {},
     "output_type": "execute_result"
    }
   ],
   "source": [
    "ad.obs.columns"
   ]
  },
  {
   "cell_type": "code",
   "execution_count": null,
   "metadata": {},
   "outputs": [],
   "source": [
    "# need to store in a txt file unique sample_IDs and its associated patient ID \n",
    "\n",
    "unique_samples = ad.obs[['sample_ID', 'Patient_ID']].drop_duplicates()\n",
    "\n",
    "unique_samples.to_csv('SampleIDs_PatientIDs.txt', sep='\\t', index=False)"
   ]
  },
  {
   "cell_type": "code",
   "execution_count": null,
   "metadata": {},
   "outputs": [],
   "source": []
  },
  {
   "cell_type": "code",
   "execution_count": 17,
   "metadata": {},
   "outputs": [
    {
     "data": {
      "text/plain": [
       "['Adenocarcinoma', 'Adenocarcinoma', 'Adenocarcinoma', 'Adenocarcinoma', 'Adenocarcinoma', ..., 'Squamous cell carcinoma', 'Adenocarcinoma', 'Adenocarcinoma', 'Adenocarcinoma', 'Adenocarcinoma']\n",
       "Length: 5984454\n",
       "Categories (10, object): ['Adeno squamous cell carcinoma', 'Adenocarcinoma', 'Basaloides Ca', 'Control', ..., 'Mesotheliom', 'NA', 'NSCLC', 'Squamous cell carcinoma']"
      ]
     },
     "execution_count": 17,
     "metadata": {},
     "output_type": "execute_result"
    }
   ],
   "source": [
    "ad.obs['DX.name'].values"
   ]
  },
  {
   "cell_type": "code",
   "execution_count": null,
   "metadata": {},
   "outputs": [],
   "source": []
  },
  {
   "cell_type": "markdown",
   "metadata": {},
   "source": [
    "# 2. Store Mask IDs"
   ]
  },
  {
   "cell_type": "code",
   "execution_count": 23,
   "metadata": {},
   "outputs": [
    {
     "name": "stdout",
     "output_type": "stream",
     "text": [
      "Filenames have been saved to masks_IDs.txt\n"
     ]
    }
   ],
   "source": [
    "directory = '/work/FAC/FBM/DBC/mrapsoma/prometex/data/NSCLC/02_processed/Cell_masks_copy/renamed_masks_all'\n",
    "\n",
    "\n",
    "file_names = []\n",
    "\n",
    "for file in os.listdir(directory):\n",
    "    if file.endswith('.tiff'): \n",
    "        file_names.append(file[:-5])  \n",
    "\n",
    "output_file = 'masks_IDs.txt'\n",
    "\n",
    "with open(output_file, 'w') as f:\n",
    "    for name in file_names:\n",
    "        f.write(name + '\\n')\n",
    "\n",
    "print(f\"Filenames have been saved to {output_file}\")"
   ]
  },
  {
   "cell_type": "code",
   "execution_count": null,
   "metadata": {},
   "outputs": [],
   "source": []
  },
  {
   "cell_type": "code",
   "execution_count": null,
   "metadata": {},
   "outputs": [],
   "source": []
  },
  {
   "cell_type": "markdown",
   "metadata": {},
   "source": [
    "# 3. Store Image IDs"
   ]
  },
  {
   "cell_type": "code",
   "execution_count": 24,
   "metadata": {},
   "outputs": [],
   "source": [
    "directory = '/work/FAC/FBM/DBC/mrapsoma/prometex/data/NSCLC/01_raw/raw/img'\n",
    "\n",
    "pattern = r'86_([A-C])_(\\d+)' \n",
    "\n",
    "\n",
    "with open('imgs_ID.txt', 'w') as f:\n",
    "\n",
    "    for filename in os.listdir(directory):\n",
    "\n",
    "        if filename.endswith('.tiff'):\n",
    "\n",
    "            match = re.search(pattern, filename)\n",
    "            if match:\n",
    "\n",
    "                letter = match.group(1)\n",
    "                number = int(match.group(2))  \n",
    "                pattern_str = f\"86_{letter}_{number}\"  \n",
    "                f.write(pattern_str + '\\n')\n"
   ]
  },
  {
   "cell_type": "code",
   "execution_count": null,
   "metadata": {},
   "outputs": [],
   "source": []
  },
  {
   "cell_type": "code",
   "execution_count": null,
   "metadata": {},
   "outputs": [],
   "source": []
  },
  {
   "cell_type": "code",
   "execution_count": 3,
   "metadata": {},
   "outputs": [],
   "source": [
    "df_imgs_ID = pd.read_csv('imgs_ID.txt', header=None, names=['imgs_ID'])\n",
    "df_masks_ID = pd.read_csv('masks_IDs.txt', header=None, names=['masks_ID'])\n",
    "df_sample_ID = pd.read_csv('SampleIDs_PatientIDs.txt', sep='\\t')\n"
   ]
  },
  {
   "cell_type": "code",
   "execution_count": 4,
   "metadata": {},
   "outputs": [
    {
     "data": {
      "application/vnd.microsoft.datawrangler.viewer.v0+json": {
       "columns": [
        {
         "name": "index",
         "rawType": "int64",
         "type": "integer"
        },
        {
         "name": "masks_ID",
         "rawType": "object",
         "type": "string"
        }
       ],
       "conversionMethod": "pd.DataFrame",
       "ref": "d08aa175-5a4e-4c46-80c0-ae1452e70010",
       "rows": [
        [
         "0",
         "88_A_100"
        ],
        [
         "1",
         "176_C_34"
        ],
        [
         "2",
         "87_A_86"
        ],
        [
         "3",
         "178_C_30"
        ],
        [
         "4",
         "175_B_47"
        ],
        [
         "5",
         "176_B_1"
        ],
        [
         "6",
         "86_A_94"
        ],
        [
         "7",
         "88_C_76"
        ],
        [
         "8",
         "87_A_131"
        ],
        [
         "9",
         "87_B_70"
        ],
        [
         "10",
         "175_C_2"
        ],
        [
         "11",
         "88_A_125"
        ],
        [
         "12",
         "88_A_38"
        ],
        [
         "13",
         "178_A_33"
        ],
        [
         "14",
         "87_B_94"
        ],
        [
         "15",
         "176_C_70"
        ],
        [
         "16",
         "87_B_63"
        ],
        [
         "17",
         "87_B_117"
        ],
        [
         "18",
         "175_B_11"
        ],
        [
         "19",
         "176_B_80"
        ],
        [
         "20",
         "175_C_30"
        ],
        [
         "21",
         "88_A_48"
        ],
        [
         "22",
         "88_A_117"
        ],
        [
         "23",
         "175_C_62"
        ],
        [
         "24",
         "176_B_110"
        ],
        [
         "25",
         "86_B_16"
        ],
        [
         "26",
         "176_B_99"
        ],
        [
         "27",
         "178_A_87"
        ],
        [
         "28",
         "178_C_50"
        ],
        [
         "29",
         "175_C_123"
        ],
        [
         "30",
         "176_B_87"
        ],
        [
         "31",
         "178_C_77"
        ],
        [
         "32",
         "88_A_28"
        ],
        [
         "33",
         "178_A_25"
        ],
        [
         "34",
         "87_A_73"
        ],
        [
         "35",
         "88_B_117"
        ],
        [
         "36",
         "175_B_25"
        ],
        [
         "37",
         "86_A_75"
        ],
        [
         "38",
         "178_C_10"
        ],
        [
         "39",
         "176_B_112"
        ],
        [
         "40",
         "87_A_132"
        ],
        [
         "41",
         "175_B_106"
        ],
        [
         "42",
         "178_A_42"
        ],
        [
         "43",
         "87_B_9"
        ],
        [
         "44",
         "87_B_106"
        ],
        [
         "45",
         "86_A_17"
        ],
        [
         "46",
         "178_A_36"
        ],
        [
         "47",
         "88_C_29"
        ],
        [
         "48",
         "88_C_99"
        ],
        [
         "49",
         "175_C_27"
        ]
       ],
       "shape": {
        "columns": 1,
        "rows": 1822
       }
      },
      "text/html": [
       "<div>\n",
       "<style scoped>\n",
       "    .dataframe tbody tr th:only-of-type {\n",
       "        vertical-align: middle;\n",
       "    }\n",
       "\n",
       "    .dataframe tbody tr th {\n",
       "        vertical-align: top;\n",
       "    }\n",
       "\n",
       "    .dataframe thead th {\n",
       "        text-align: right;\n",
       "    }\n",
       "</style>\n",
       "<table border=\"1\" class=\"dataframe\">\n",
       "  <thead>\n",
       "    <tr style=\"text-align: right;\">\n",
       "      <th></th>\n",
       "      <th>masks_ID</th>\n",
       "    </tr>\n",
       "  </thead>\n",
       "  <tbody>\n",
       "    <tr>\n",
       "      <th>0</th>\n",
       "      <td>88_A_100</td>\n",
       "    </tr>\n",
       "    <tr>\n",
       "      <th>1</th>\n",
       "      <td>176_C_34</td>\n",
       "    </tr>\n",
       "    <tr>\n",
       "      <th>2</th>\n",
       "      <td>87_A_86</td>\n",
       "    </tr>\n",
       "    <tr>\n",
       "      <th>3</th>\n",
       "      <td>178_C_30</td>\n",
       "    </tr>\n",
       "    <tr>\n",
       "      <th>4</th>\n",
       "      <td>175_B_47</td>\n",
       "    </tr>\n",
       "    <tr>\n",
       "      <th>...</th>\n",
       "      <td>...</td>\n",
       "    </tr>\n",
       "    <tr>\n",
       "      <th>1817</th>\n",
       "      <td>88_B_103</td>\n",
       "    </tr>\n",
       "    <tr>\n",
       "      <th>1818</th>\n",
       "      <td>88_B_121</td>\n",
       "    </tr>\n",
       "    <tr>\n",
       "      <th>1819</th>\n",
       "      <td>86_A_33</td>\n",
       "    </tr>\n",
       "    <tr>\n",
       "      <th>1820</th>\n",
       "      <td>176_C_65</td>\n",
       "    </tr>\n",
       "    <tr>\n",
       "      <th>1821</th>\n",
       "      <td>86_A_97</td>\n",
       "    </tr>\n",
       "  </tbody>\n",
       "</table>\n",
       "<p>1822 rows × 1 columns</p>\n",
       "</div>"
      ],
      "text/plain": [
       "      masks_ID\n",
       "0     88_A_100\n",
       "1     176_C_34\n",
       "2      87_A_86\n",
       "3     178_C_30\n",
       "4     175_B_47\n",
       "...        ...\n",
       "1817  88_B_103\n",
       "1818  88_B_121\n",
       "1819   86_A_33\n",
       "1820  176_C_65\n",
       "1821   86_A_97\n",
       "\n",
       "[1822 rows x 1 columns]"
      ]
     },
     "execution_count": 4,
     "metadata": {},
     "output_type": "execute_result"
    }
   ],
   "source": [
    "df_masks_ID"
   ]
  },
  {
   "cell_type": "code",
   "execution_count": 5,
   "metadata": {},
   "outputs": [
    {
     "data": {
      "application/vnd.microsoft.datawrangler.viewer.v0+json": {
       "columns": [
        {
         "name": "index",
         "rawType": "int64",
         "type": "integer"
        },
        {
         "name": "sample_ID",
         "rawType": "object",
         "type": "string"
        },
        {
         "name": "Patient_ID",
         "rawType": "object",
         "type": "string"
        }
       ],
       "conversionMethod": "pd.DataFrame",
       "ref": "e9c952ce-178a-4431-8f29-0e579d685a31",
       "rows": [
        [
         "0",
         "86_A_1",
         "86_1"
        ],
        [
         "1",
         "86_A_10",
         "86_37"
        ],
        [
         "2",
         "86_A_100",
         "86_8"
        ],
        [
         "3",
         "86_A_101",
         "86_12"
        ],
        [
         "4",
         "86_A_102",
         "86_16"
        ],
        [
         "5",
         "86_A_103",
         "86_20"
        ],
        [
         "6",
         "86_A_104",
         "86_24"
        ],
        [
         "7",
         "86_A_105",
         "86_28"
        ],
        [
         "8",
         "86_A_106",
         "86_32"
        ],
        [
         "9",
         "86_A_107",
         "86_36"
        ],
        [
         "10",
         "86_A_108",
         "86_40"
        ],
        [
         "11",
         "86_A_109",
         "86_44"
        ],
        [
         "12",
         "86_A_11",
         "86_41"
        ],
        [
         "13",
         "86_A_110",
         "86_48"
        ],
        [
         "14",
         "86_A_112",
         "86_56"
        ],
        [
         "15",
         "86_A_13",
         "86_49"
        ],
        [
         "16",
         "86_A_14",
         "86_53"
        ],
        [
         "17",
         "86_A_15",
         "86_1"
        ],
        [
         "18",
         "86_A_16",
         "86_5"
        ],
        [
         "19",
         "86_A_17",
         "86_9"
        ],
        [
         "20",
         "86_A_18",
         "86_13"
        ],
        [
         "21",
         "86_A_19",
         "86_17"
        ],
        [
         "22",
         "86_A_2",
         "86_5"
        ],
        [
         "23",
         "86_A_20",
         "86_21"
        ],
        [
         "24",
         "86_A_21",
         "86_25"
        ],
        [
         "25",
         "86_A_22",
         "86_29"
        ],
        [
         "26",
         "86_A_23",
         "86_33"
        ],
        [
         "27",
         "86_A_24",
         "86_37"
        ],
        [
         "28",
         "86_A_25",
         "86_41"
        ],
        [
         "29",
         "86_A_26",
         "86_45"
        ],
        [
         "30",
         "86_A_27",
         "86_49"
        ],
        [
         "31",
         "86_A_28",
         "86_53"
        ],
        [
         "32",
         "86_A_30",
         "86_6"
        ],
        [
         "33",
         "86_A_31",
         "86_10"
        ],
        [
         "34",
         "86_A_33",
         "86_18"
        ],
        [
         "35",
         "86_A_34",
         "86_22"
        ],
        [
         "36",
         "86_A_36",
         "86_30"
        ],
        [
         "37",
         "86_A_37",
         "86_34"
        ],
        [
         "38",
         "86_A_38",
         "86_38"
        ],
        [
         "39",
         "86_A_39",
         "86_42"
        ],
        [
         "40",
         "86_A_40",
         "86_46"
        ],
        [
         "41",
         "86_A_41",
         "86_50"
        ],
        [
         "42",
         "86_A_42",
         "86_54"
        ],
        [
         "43",
         "86_A_44",
         "86_6"
        ],
        [
         "44",
         "86_A_46",
         "86_14"
        ],
        [
         "45",
         "86_A_47",
         "86_18"
        ],
        [
         "46",
         "86_A_49",
         "86_26"
        ],
        [
         "47",
         "86_A_5",
         "86_17"
        ],
        [
         "48",
         "86_A_50",
         "86_30"
        ],
        [
         "49",
         "86_A_51",
         "86_34"
        ]
       ],
       "shape": {
        "columns": 2,
        "rows": 2072
       }
      },
      "text/html": [
       "<div>\n",
       "<style scoped>\n",
       "    .dataframe tbody tr th:only-of-type {\n",
       "        vertical-align: middle;\n",
       "    }\n",
       "\n",
       "    .dataframe tbody tr th {\n",
       "        vertical-align: top;\n",
       "    }\n",
       "\n",
       "    .dataframe thead th {\n",
       "        text-align: right;\n",
       "    }\n",
       "</style>\n",
       "<table border=\"1\" class=\"dataframe\">\n",
       "  <thead>\n",
       "    <tr style=\"text-align: right;\">\n",
       "      <th></th>\n",
       "      <th>sample_ID</th>\n",
       "      <th>Patient_ID</th>\n",
       "    </tr>\n",
       "  </thead>\n",
       "  <tbody>\n",
       "    <tr>\n",
       "      <th>0</th>\n",
       "      <td>86_A_1</td>\n",
       "      <td>86_1</td>\n",
       "    </tr>\n",
       "    <tr>\n",
       "      <th>1</th>\n",
       "      <td>86_A_10</td>\n",
       "      <td>86_37</td>\n",
       "    </tr>\n",
       "    <tr>\n",
       "      <th>2</th>\n",
       "      <td>86_A_100</td>\n",
       "      <td>86_8</td>\n",
       "    </tr>\n",
       "    <tr>\n",
       "      <th>3</th>\n",
       "      <td>86_A_101</td>\n",
       "      <td>86_12</td>\n",
       "    </tr>\n",
       "    <tr>\n",
       "      <th>4</th>\n",
       "      <td>86_A_102</td>\n",
       "      <td>86_16</td>\n",
       "    </tr>\n",
       "    <tr>\n",
       "      <th>...</th>\n",
       "      <td>...</td>\n",
       "      <td>...</td>\n",
       "    </tr>\n",
       "    <tr>\n",
       "      <th>2067</th>\n",
       "      <td>86_B_78</td>\n",
       "      <td>86_87</td>\n",
       "    </tr>\n",
       "    <tr>\n",
       "      <th>2068</th>\n",
       "      <td>88_A_7</td>\n",
       "      <td>88_362</td>\n",
       "    </tr>\n",
       "    <tr>\n",
       "      <th>2069</th>\n",
       "      <td>86_B_82</td>\n",
       "      <td>86_103</td>\n",
       "    </tr>\n",
       "    <tr>\n",
       "      <th>2070</th>\n",
       "      <td>176_C_30</td>\n",
       "      <td>Control</td>\n",
       "    </tr>\n",
       "    <tr>\n",
       "      <th>2071</th>\n",
       "      <td>178_A_35</td>\n",
       "      <td>178_431</td>\n",
       "    </tr>\n",
       "  </tbody>\n",
       "</table>\n",
       "<p>2072 rows × 2 columns</p>\n",
       "</div>"
      ],
      "text/plain": [
       "     sample_ID Patient_ID\n",
       "0       86_A_1       86_1\n",
       "1      86_A_10      86_37\n",
       "2     86_A_100       86_8\n",
       "3     86_A_101      86_12\n",
       "4     86_A_102      86_16\n",
       "...        ...        ...\n",
       "2067   86_B_78      86_87\n",
       "2068    88_A_7     88_362\n",
       "2069   86_B_82     86_103\n",
       "2070  176_C_30    Control\n",
       "2071  178_A_35    178_431\n",
       "\n",
       "[2072 rows x 2 columns]"
      ]
     },
     "execution_count": 5,
     "metadata": {},
     "output_type": "execute_result"
    }
   ],
   "source": [
    "df_sample_ID"
   ]
  },
  {
   "cell_type": "code",
   "execution_count": null,
   "metadata": {},
   "outputs": [],
   "source": []
  },
  {
   "cell_type": "code",
   "execution_count": null,
   "metadata": {},
   "outputs": [
    {
     "data": {
      "application/vnd.microsoft.datawrangler.viewer.v0+json": {
       "columns": [
        {
         "name": "index",
         "rawType": "int64",
         "type": "integer"
        },
        {
         "name": "imgs_ID",
         "rawType": "object",
         "type": "unknown"
        },
        {
         "name": "masks_ID",
         "rawType": "object",
         "type": "string"
        }
       ],
       "conversionMethod": "pd.DataFrame",
       "ref": "5b2daec0-27b0-4b78-8ded-0235efef48bc",
       "rows": [
        [
         "0",
         null,
         "175_A_1"
        ],
        [
         "1",
         null,
         "175_A_10"
        ],
        [
         "2",
         null,
         "175_A_100"
        ],
        [
         "3",
         null,
         "175_A_102"
        ],
        [
         "4",
         null,
         "175_A_103"
        ],
        [
         "5",
         null,
         "175_A_104"
        ],
        [
         "6",
         null,
         "175_A_105"
        ],
        [
         "7",
         null,
         "175_A_106"
        ],
        [
         "8",
         null,
         "175_A_107"
        ],
        [
         "9",
         null,
         "175_A_108"
        ],
        [
         "10",
         null,
         "175_A_109"
        ],
        [
         "11",
         null,
         "175_A_11"
        ],
        [
         "12",
         null,
         "175_A_110"
        ],
        [
         "13",
         null,
         "175_A_111"
        ],
        [
         "14",
         null,
         "175_A_112"
        ],
        [
         "15",
         null,
         "175_A_113"
        ],
        [
         "16",
         null,
         "175_A_114"
        ],
        [
         "17",
         null,
         "175_A_115"
        ],
        [
         "18",
         null,
         "175_A_116"
        ],
        [
         "19",
         null,
         "175_A_117"
        ],
        [
         "20",
         null,
         "175_A_118"
        ],
        [
         "21",
         null,
         "175_A_119"
        ],
        [
         "22",
         null,
         "175_A_12"
        ],
        [
         "23",
         null,
         "175_A_120"
        ],
        [
         "24",
         null,
         "175_A_121"
        ],
        [
         "25",
         null,
         "175_A_122"
        ],
        [
         "26",
         null,
         "175_A_123"
        ],
        [
         "27",
         null,
         "175_A_124"
        ],
        [
         "28",
         null,
         "175_A_125"
        ],
        [
         "29",
         null,
         "175_A_126"
        ],
        [
         "30",
         null,
         "175_A_127"
        ],
        [
         "31",
         null,
         "175_A_128"
        ],
        [
         "32",
         null,
         "175_A_129"
        ],
        [
         "33",
         null,
         "175_A_13"
        ],
        [
         "34",
         null,
         "175_A_130"
        ],
        [
         "35",
         null,
         "175_A_131"
        ],
        [
         "36",
         null,
         "175_A_132"
        ],
        [
         "37",
         null,
         "175_A_133"
        ],
        [
         "38",
         null,
         "175_A_134"
        ],
        [
         "39",
         null,
         "175_A_135"
        ],
        [
         "40",
         null,
         "175_A_136"
        ],
        [
         "41",
         null,
         "175_A_15"
        ],
        [
         "42",
         null,
         "175_A_16"
        ],
        [
         "43",
         null,
         "175_A_17"
        ],
        [
         "44",
         null,
         "175_A_18"
        ],
        [
         "45",
         null,
         "175_A_19"
        ],
        [
         "46",
         null,
         "175_A_2"
        ],
        [
         "47",
         null,
         "175_A_20"
        ],
        [
         "48",
         null,
         "175_A_21"
        ],
        [
         "49",
         null,
         "175_A_22"
        ]
       ],
       "shape": {
        "columns": 2,
        "rows": 1822
       }
      },
      "text/html": [
       "<div>\n",
       "<style scoped>\n",
       "    .dataframe tbody tr th:only-of-type {\n",
       "        vertical-align: middle;\n",
       "    }\n",
       "\n",
       "    .dataframe tbody tr th {\n",
       "        vertical-align: top;\n",
       "    }\n",
       "\n",
       "    .dataframe thead th {\n",
       "        text-align: right;\n",
       "    }\n",
       "</style>\n",
       "<table border=\"1\" class=\"dataframe\">\n",
       "  <thead>\n",
       "    <tr style=\"text-align: right;\">\n",
       "      <th></th>\n",
       "      <th>imgs_ID</th>\n",
       "      <th>masks_ID</th>\n",
       "    </tr>\n",
       "  </thead>\n",
       "  <tbody>\n",
       "    <tr>\n",
       "      <th>0</th>\n",
       "      <td>NaN</td>\n",
       "      <td>175_A_1</td>\n",
       "    </tr>\n",
       "    <tr>\n",
       "      <th>1</th>\n",
       "      <td>NaN</td>\n",
       "      <td>175_A_10</td>\n",
       "    </tr>\n",
       "    <tr>\n",
       "      <th>2</th>\n",
       "      <td>NaN</td>\n",
       "      <td>175_A_100</td>\n",
       "    </tr>\n",
       "    <tr>\n",
       "      <th>3</th>\n",
       "      <td>NaN</td>\n",
       "      <td>175_A_102</td>\n",
       "    </tr>\n",
       "    <tr>\n",
       "      <th>4</th>\n",
       "      <td>NaN</td>\n",
       "      <td>175_A_103</td>\n",
       "    </tr>\n",
       "    <tr>\n",
       "      <th>...</th>\n",
       "      <td>...</td>\n",
       "      <td>...</td>\n",
       "    </tr>\n",
       "    <tr>\n",
       "      <th>1817</th>\n",
       "      <td>NaN</td>\n",
       "      <td>88_C_95</td>\n",
       "    </tr>\n",
       "    <tr>\n",
       "      <th>1818</th>\n",
       "      <td>NaN</td>\n",
       "      <td>88_C_96</td>\n",
       "    </tr>\n",
       "    <tr>\n",
       "      <th>1819</th>\n",
       "      <td>NaN</td>\n",
       "      <td>88_C_97</td>\n",
       "    </tr>\n",
       "    <tr>\n",
       "      <th>1820</th>\n",
       "      <td>NaN</td>\n",
       "      <td>88_C_98</td>\n",
       "    </tr>\n",
       "    <tr>\n",
       "      <th>1821</th>\n",
       "      <td>NaN</td>\n",
       "      <td>88_C_99</td>\n",
       "    </tr>\n",
       "  </tbody>\n",
       "</table>\n",
       "<p>1822 rows × 2 columns</p>\n",
       "</div>"
      ],
      "text/plain": [
       "     imgs_ID   masks_ID\n",
       "0        NaN    175_A_1\n",
       "1        NaN   175_A_10\n",
       "2        NaN  175_A_100\n",
       "3        NaN  175_A_102\n",
       "4        NaN  175_A_103\n",
       "...      ...        ...\n",
       "1817     NaN    88_C_95\n",
       "1818     NaN    88_C_96\n",
       "1819     NaN    88_C_97\n",
       "1820     NaN    88_C_98\n",
       "1821     NaN    88_C_99\n",
       "\n",
       "[1822 rows x 2 columns]"
      ]
     },
     "execution_count": 35,
     "metadata": {},
     "output_type": "execute_result"
    }
   ],
   "source": [
    "df_aligned = pd.merge(df_masks_ID, df_sample_ID, how='outer', left_on='imgs_ID', right_on='masks_ID')\n",
    "\n",
    "df_aligned"
   ]
  },
  {
   "cell_type": "code",
   "execution_count": 11,
   "metadata": {},
   "outputs": [
    {
     "data": {
      "application/vnd.microsoft.datawrangler.viewer.v0+json": {
       "columns": [
        {
         "name": "index",
         "rawType": "int64",
         "type": "integer"
        },
        {
         "name": "masks_ID",
         "rawType": "object",
         "type": "unknown"
        },
        {
         "name": "sample_ID",
         "rawType": "object",
         "type": "unknown"
        },
        {
         "name": "Patient_ID",
         "rawType": "object",
         "type": "unknown"
        }
       ],
       "conversionMethod": "pd.DataFrame",
       "ref": "2610fb02-3ece-4945-8b49-9146b4df2e6f",
       "rows": [
        [
         "0",
         "175_A_1",
         "175_A_1",
         "175_1"
        ],
        [
         "1",
         "175_A_10",
         "175_A_10",
         "175_41"
        ],
        [
         "2",
         "175_A_100",
         "175_A_100",
         "175_59"
        ],
        [
         "3",
         "175_A_102",
         "175_A_102",
         "175_63"
        ],
        [
         "4",
         "175_A_103",
         "175_A_103",
         "175_4"
        ],
        [
         "5",
         "175_A_104",
         "175_A_104",
         "175_8"
        ],
        [
         "6",
         "175_A_105",
         "175_A_105",
         "175_12"
        ],
        [
         "7",
         "175_A_106",
         "175_A_106",
         "175_16"
        ],
        [
         "8",
         "175_A_107",
         "175_A_107",
         "175_20"
        ],
        [
         "9",
         "175_A_108",
         "175_A_108",
         "175_24"
        ],
        [
         "10",
         "175_A_109",
         "175_A_109",
         "175_28"
        ],
        [
         "11",
         "175_A_11",
         "175_A_11",
         "175_45"
        ],
        [
         "12",
         "175_A_110",
         "175_A_110",
         "175_32"
        ],
        [
         "13",
         "175_A_111",
         "175_A_111",
         "175_36"
        ],
        [
         "14",
         "175_A_112",
         "175_A_112",
         "175_40"
        ],
        [
         "15",
         "175_A_113",
         "175_A_113",
         "175_44"
        ],
        [
         "16",
         "175_A_114",
         "175_A_114",
         "175_48"
        ],
        [
         "17",
         "175_A_115",
         "175_A_115",
         "175_52"
        ],
        [
         "18",
         "175_A_116",
         "175_A_116",
         "175_56"
        ],
        [
         "19",
         "175_A_117",
         "175_A_117",
         "175_60"
        ],
        [
         "20",
         "175_A_118",
         "175_A_118",
         "175_64"
        ],
        [
         "21",
         "175_A_119",
         "175_A_119",
         "175_68"
        ],
        [
         "22",
         "175_A_12",
         "175_A_12",
         "175_49"
        ],
        [
         "23",
         "175_A_120",
         "175_A_120",
         "175_4"
        ],
        [
         "24",
         "175_A_121",
         "175_A_121",
         "175_8"
        ],
        [
         "25",
         "175_A_122",
         "175_A_122",
         "175_12"
        ],
        [
         "26",
         "175_A_123",
         "175_A_123",
         "175_16"
        ],
        [
         "27",
         "175_A_124",
         "175_A_124",
         "175_20"
        ],
        [
         "28",
         "175_A_125",
         "175_A_125",
         "175_24"
        ],
        [
         "29",
         "175_A_126",
         "175_A_126",
         "175_28"
        ],
        [
         "30",
         "175_A_127",
         "175_A_127",
         "175_32"
        ],
        [
         "31",
         "175_A_128",
         "175_A_128",
         "175_36"
        ],
        [
         "32",
         "175_A_129",
         "175_A_129",
         "175_40"
        ],
        [
         "33",
         "175_A_13",
         "175_A_13",
         "175_53"
        ],
        [
         "34",
         "175_A_130",
         "175_A_130",
         "175_44"
        ],
        [
         "35",
         "175_A_131",
         "175_A_131",
         "175_48"
        ],
        [
         "36",
         "175_A_132",
         "175_A_132",
         "175_52"
        ],
        [
         "37",
         "175_A_133",
         "175_A_133",
         "175_56"
        ],
        [
         "38",
         "175_A_134",
         "175_A_134",
         "175_60"
        ],
        [
         "39",
         "175_A_135",
         "175_A_135",
         "175_64"
        ],
        [
         "40",
         "175_A_136",
         "175_A_136",
         "175_68"
        ],
        [
         "41",
         "175_A_15",
         "175_A_15",
         "175_57"
        ],
        [
         "42",
         "175_A_16",
         "175_A_16",
         "175_61"
        ],
        [
         "43",
         "175_A_17",
         "175_A_17",
         "175_65"
        ],
        [
         "44",
         "175_A_18",
         "175_A_18",
         "175_1"
        ],
        [
         "45",
         "175_A_19",
         "175_A_19",
         "175_5"
        ],
        [
         "46",
         "175_A_2",
         "175_A_2",
         "175_5"
        ],
        [
         "47",
         "175_A_20",
         "175_A_20",
         "175_9"
        ],
        [
         "48",
         "175_A_21",
         "175_A_21",
         "175_13"
        ],
        [
         "49",
         "175_A_22",
         "175_A_22",
         "175_17"
        ]
       ],
       "shape": {
        "columns": 3,
        "rows": 2078
       }
      },
      "text/html": [
       "<div>\n",
       "<style scoped>\n",
       "    .dataframe tbody tr th:only-of-type {\n",
       "        vertical-align: middle;\n",
       "    }\n",
       "\n",
       "    .dataframe tbody tr th {\n",
       "        vertical-align: top;\n",
       "    }\n",
       "\n",
       "    .dataframe thead th {\n",
       "        text-align: right;\n",
       "    }\n",
       "</style>\n",
       "<table border=\"1\" class=\"dataframe\">\n",
       "  <thead>\n",
       "    <tr style=\"text-align: right;\">\n",
       "      <th></th>\n",
       "      <th>masks_ID</th>\n",
       "      <th>sample_ID</th>\n",
       "      <th>Patient_ID</th>\n",
       "    </tr>\n",
       "  </thead>\n",
       "  <tbody>\n",
       "    <tr>\n",
       "      <th>0</th>\n",
       "      <td>175_A_1</td>\n",
       "      <td>175_A_1</td>\n",
       "      <td>175_1</td>\n",
       "    </tr>\n",
       "    <tr>\n",
       "      <th>1</th>\n",
       "      <td>175_A_10</td>\n",
       "      <td>175_A_10</td>\n",
       "      <td>175_41</td>\n",
       "    </tr>\n",
       "    <tr>\n",
       "      <th>2</th>\n",
       "      <td>175_A_100</td>\n",
       "      <td>175_A_100</td>\n",
       "      <td>175_59</td>\n",
       "    </tr>\n",
       "    <tr>\n",
       "      <th>3</th>\n",
       "      <td>175_A_102</td>\n",
       "      <td>175_A_102</td>\n",
       "      <td>175_63</td>\n",
       "    </tr>\n",
       "    <tr>\n",
       "      <th>4</th>\n",
       "      <td>175_A_103</td>\n",
       "      <td>175_A_103</td>\n",
       "      <td>175_4</td>\n",
       "    </tr>\n",
       "    <tr>\n",
       "      <th>...</th>\n",
       "      <td>...</td>\n",
       "      <td>...</td>\n",
       "      <td>...</td>\n",
       "    </tr>\n",
       "    <tr>\n",
       "      <th>2073</th>\n",
       "      <td>88_C_95</td>\n",
       "      <td>88_C_95</td>\n",
       "      <td>88_505</td>\n",
       "    </tr>\n",
       "    <tr>\n",
       "      <th>2074</th>\n",
       "      <td>88_C_96</td>\n",
       "      <td>88_C_96</td>\n",
       "      <td>88_509</td>\n",
       "    </tr>\n",
       "    <tr>\n",
       "      <th>2075</th>\n",
       "      <td>88_C_97</td>\n",
       "      <td>88_C_97</td>\n",
       "      <td>88_513</td>\n",
       "    </tr>\n",
       "    <tr>\n",
       "      <th>2076</th>\n",
       "      <td>88_C_98</td>\n",
       "      <td>88_C_98</td>\n",
       "      <td>88_517</td>\n",
       "    </tr>\n",
       "    <tr>\n",
       "      <th>2077</th>\n",
       "      <td>88_C_99</td>\n",
       "      <td>88_C_99</td>\n",
       "      <td>88_521</td>\n",
       "    </tr>\n",
       "  </tbody>\n",
       "</table>\n",
       "<p>2078 rows × 3 columns</p>\n",
       "</div>"
      ],
      "text/plain": [
       "       masks_ID  sample_ID Patient_ID\n",
       "0       175_A_1    175_A_1      175_1\n",
       "1      175_A_10   175_A_10     175_41\n",
       "2     175_A_100  175_A_100     175_59\n",
       "3     175_A_102  175_A_102     175_63\n",
       "4     175_A_103  175_A_103      175_4\n",
       "...         ...        ...        ...\n",
       "2073    88_C_95    88_C_95     88_505\n",
       "2074    88_C_96    88_C_96     88_509\n",
       "2075    88_C_97    88_C_97     88_513\n",
       "2076    88_C_98    88_C_98     88_517\n",
       "2077    88_C_99    88_C_99     88_521\n",
       "\n",
       "[2078 rows x 3 columns]"
      ]
     },
     "execution_count": 11,
     "metadata": {},
     "output_type": "execute_result"
    }
   ],
   "source": [
    "df_merged = pd.merge(df_masks_ID, df_sample_ID, left_on='masks_ID', right_on='sample_ID', how='outer')\n",
    "df_merged"
   ]
  },
  {
   "cell_type": "code",
   "execution_count": 13,
   "metadata": {},
   "outputs": [
    {
     "data": {
      "application/vnd.microsoft.datawrangler.viewer.v0+json": {
       "columns": [
        {
         "name": "index",
         "rawType": "int64",
         "type": "integer"
        },
        {
         "name": "masks_ID",
         "rawType": "object",
         "type": "unknown"
        },
        {
         "name": "sample_ID",
         "rawType": "object",
         "type": "unknown"
        },
        {
         "name": "Patient_ID",
         "rawType": "object",
         "type": "unknown"
        }
       ],
       "conversionMethod": "pd.DataFrame",
       "ref": "7ed82da7-80b8-41ce-a887-1a9d900d9c98",
       "rows": [
        [
         "395",
         null,
         "176_A_1",
         "176_193"
        ],
        [
         "396",
         null,
         "176_A_10",
         "176_229"
        ],
        [
         "397",
         null,
         "176_A_100",
         "176_208"
        ],
        [
         "398",
         null,
         "176_A_101",
         "176_212"
        ],
        [
         "399",
         null,
         "176_A_102",
         "176_216"
        ],
        [
         "400",
         null,
         "176_A_103",
         "176_220"
        ],
        [
         "401",
         null,
         "176_A_104",
         "176_224"
        ],
        [
         "402",
         null,
         "176_A_105",
         "176_228"
        ],
        [
         "403",
         null,
         "176_A_106",
         "176_232"
        ],
        [
         "404",
         null,
         "176_A_107",
         "176_236"
        ],
        [
         "405",
         null,
         "176_A_108",
         "176_240"
        ],
        [
         "406",
         null,
         "176_A_109",
         "176_244"
        ],
        [
         "407",
         null,
         "176_A_11",
         "176_233"
        ],
        [
         "408",
         null,
         "176_A_110",
         "176_248"
        ],
        [
         "409",
         null,
         "176_A_111",
         "176_252"
        ],
        [
         "410",
         null,
         "176_A_112",
         "176_256"
        ],
        [
         "411",
         null,
         "176_A_113",
         "176_196"
        ],
        [
         "412",
         null,
         "176_A_114",
         "176_200"
        ],
        [
         "413",
         null,
         "176_A_115",
         "176_204"
        ],
        [
         "414",
         null,
         "176_A_116",
         "176_208"
        ],
        [
         "415",
         null,
         "176_A_117",
         "176_212"
        ],
        [
         "416",
         null,
         "176_A_118",
         "176_216"
        ],
        [
         "417",
         null,
         "176_A_119",
         "176_220"
        ],
        [
         "418",
         null,
         "176_A_12",
         "176_237"
        ],
        [
         "419",
         null,
         "176_A_120",
         "176_224"
        ],
        [
         "420",
         null,
         "176_A_121",
         "176_228"
        ],
        [
         "421",
         null,
         "176_A_122",
         "176_232"
        ],
        [
         "422",
         null,
         "176_A_123",
         "176_236"
        ],
        [
         "423",
         null,
         "176_A_124",
         "176_240"
        ],
        [
         "424",
         null,
         "176_A_125",
         "176_244"
        ],
        [
         "425",
         null,
         "176_A_126",
         "176_248"
        ],
        [
         "426",
         null,
         "176_A_127",
         "176_252"
        ],
        [
         "427",
         null,
         "176_A_128",
         "176_256"
        ],
        [
         "428",
         null,
         "176_A_13",
         "176_241"
        ],
        [
         "429",
         null,
         "176_A_14",
         "176_245"
        ],
        [
         "430",
         null,
         "176_A_15",
         "176_249"
        ],
        [
         "431",
         null,
         "176_A_16",
         "176_253"
        ],
        [
         "432",
         null,
         "176_A_17",
         "176_193"
        ],
        [
         "433",
         null,
         "176_A_18",
         "176_197"
        ],
        [
         "434",
         null,
         "176_A_19",
         "176_201"
        ],
        [
         "435",
         null,
         "176_A_2",
         "176_197"
        ],
        [
         "436",
         null,
         "176_A_20",
         "176_205"
        ],
        [
         "437",
         null,
         "176_A_21",
         "176_209"
        ],
        [
         "438",
         null,
         "176_A_22",
         "176_213"
        ],
        [
         "439",
         null,
         "176_A_23",
         "176_217"
        ],
        [
         "440",
         null,
         "176_A_24",
         "176_221"
        ],
        [
         "441",
         null,
         "176_A_25",
         "176_225"
        ],
        [
         "442",
         null,
         "176_A_26",
         "176_229"
        ],
        [
         "443",
         null,
         "176_A_27",
         "176_233"
        ],
        [
         "444",
         null,
         "176_A_28",
         "176_237"
        ]
       ],
       "shape": {
        "columns": 3,
        "rows": 262
       }
      },
      "text/html": [
       "<div>\n",
       "<style scoped>\n",
       "    .dataframe tbody tr th:only-of-type {\n",
       "        vertical-align: middle;\n",
       "    }\n",
       "\n",
       "    .dataframe tbody tr th {\n",
       "        vertical-align: top;\n",
       "    }\n",
       "\n",
       "    .dataframe thead th {\n",
       "        text-align: right;\n",
       "    }\n",
       "</style>\n",
       "<table border=\"1\" class=\"dataframe\">\n",
       "  <thead>\n",
       "    <tr style=\"text-align: right;\">\n",
       "      <th></th>\n",
       "      <th>masks_ID</th>\n",
       "      <th>sample_ID</th>\n",
       "      <th>Patient_ID</th>\n",
       "    </tr>\n",
       "  </thead>\n",
       "  <tbody>\n",
       "    <tr>\n",
       "      <th>395</th>\n",
       "      <td>NaN</td>\n",
       "      <td>176_A_1</td>\n",
       "      <td>176_193</td>\n",
       "    </tr>\n",
       "    <tr>\n",
       "      <th>396</th>\n",
       "      <td>NaN</td>\n",
       "      <td>176_A_10</td>\n",
       "      <td>176_229</td>\n",
       "    </tr>\n",
       "    <tr>\n",
       "      <th>397</th>\n",
       "      <td>NaN</td>\n",
       "      <td>176_A_100</td>\n",
       "      <td>176_208</td>\n",
       "    </tr>\n",
       "    <tr>\n",
       "      <th>398</th>\n",
       "      <td>NaN</td>\n",
       "      <td>176_A_101</td>\n",
       "      <td>176_212</td>\n",
       "    </tr>\n",
       "    <tr>\n",
       "      <th>399</th>\n",
       "      <td>NaN</td>\n",
       "      <td>176_A_102</td>\n",
       "      <td>176_216</td>\n",
       "    </tr>\n",
       "    <tr>\n",
       "      <th>...</th>\n",
       "      <td>...</td>\n",
       "      <td>...</td>\n",
       "      <td>...</td>\n",
       "    </tr>\n",
       "    <tr>\n",
       "      <th>1231</th>\n",
       "      <td>86_B_24</td>\n",
       "      <td>NaN</td>\n",
       "      <td>NaN</td>\n",
       "    </tr>\n",
       "    <tr>\n",
       "      <th>1734</th>\n",
       "      <td>88_A_1</td>\n",
       "      <td>NaN</td>\n",
       "      <td>NaN</td>\n",
       "    </tr>\n",
       "    <tr>\n",
       "      <th>1780</th>\n",
       "      <td>88_A_2</td>\n",
       "      <td>NaN</td>\n",
       "      <td>NaN</td>\n",
       "    </tr>\n",
       "    <tr>\n",
       "      <th>1791</th>\n",
       "      <td>88_A_3</td>\n",
       "      <td>NaN</td>\n",
       "      <td>NaN</td>\n",
       "    </tr>\n",
       "    <tr>\n",
       "      <th>1802</th>\n",
       "      <td>88_A_4</td>\n",
       "      <td>NaN</td>\n",
       "      <td>NaN</td>\n",
       "    </tr>\n",
       "  </tbody>\n",
       "</table>\n",
       "<p>262 rows × 3 columns</p>\n",
       "</div>"
      ],
      "text/plain": [
       "     masks_ID  sample_ID Patient_ID\n",
       "395       NaN    176_A_1    176_193\n",
       "396       NaN   176_A_10    176_229\n",
       "397       NaN  176_A_100    176_208\n",
       "398       NaN  176_A_101    176_212\n",
       "399       NaN  176_A_102    176_216\n",
       "...       ...        ...        ...\n",
       "1231  86_B_24        NaN        NaN\n",
       "1734   88_A_1        NaN        NaN\n",
       "1780   88_A_2        NaN        NaN\n",
       "1791   88_A_3        NaN        NaN\n",
       "1802   88_A_4        NaN        NaN\n",
       "\n",
       "[262 rows x 3 columns]"
      ]
     },
     "execution_count": 13,
     "metadata": {},
     "output_type": "execute_result"
    }
   ],
   "source": [
    "df_with_nan = df_merged[df_merged.isna().any(axis=1)]\n",
    "df_with_nan"
   ]
  },
  {
   "cell_type": "code",
   "execution_count": null,
   "metadata": {},
   "outputs": [],
   "source": []
  },
  {
   "cell_type": "code",
   "execution_count": null,
   "metadata": {},
   "outputs": [],
   "source": []
  },
  {
   "cell_type": "markdown",
   "metadata": {},
   "source": [
    "# 4. Check identical masks"
   ]
  },
  {
   "cell_type": "code",
   "execution_count": 20,
   "metadata": {},
   "outputs": [
    {
     "name": "stdout",
     "output_type": "stream",
     "text": [
      "{'2020120_LC_NSCLC_TMA_86_C_s0_a47_ac_ilastik_s2_Probabilitiescells_mask.tiff', '2020120_LC_NSCLC_TMA_86_C_s0_a98_ac_ilastik_s2_Probabilitiescells_mask.tiff', '2020120_LC_NSCLC_TMA_86_C_s0_a90_ac_ilastik_s2_Probabilitiescells_mask.tiff', '2020120_LC_NSCLC_TMA_86_C_s0_a39_ac_ilastik_s2_Probabilitiescells_mask.tiff', '2020120_LC_NSCLC_TMA_86_C_s0_a88_ac_ilastik_s2_Probabilitiescells_mask.tiff', '2020120_LC_NSCLC_TMA_86_C_s0_a71_ac_ilastik_s2_Probabilitiescells_mask.tiff', '2020120_LC_NSCLC_TMA_86_C_s0_a26_ac_ilastik_s2_Probabilitiescells_mask.tiff', '2020120_LC_NSCLC_TMA_86_C_s0_a53_ac_ilastik_s2_Probabilitiescells_mask.tiff', '2020120_LC_NSCLC_TMA_86_C_s0_a31_ac_ilastik_s2_Probabilitiescells_mask.tiff', '2020120_LC_NSCLC_TMA_86_C_s0_a100_ac_ilastik_s2_Probabilitiescells_mask.tiff', '2020120_LC_NSCLC_TMA_86_C_s0_a35_ac_ilastik_s2_Probabilitiescells_mask.tiff', '2020120_LC_NSCLC_TMA_86_C_s0_a3_ac_ilastik_s2_Probabilitiescells_mask.tiff', '2020120_LC_NSCLC_TMA_86_C_s0_a91_ac_ilastik_s2_Probabilitiescells_mask.tiff', '2020120_LC_NSCLC_TMA_86_C_s0_a37_ac_ilastik_s2_Probabilitiescells_mask.tiff', '2020120_LC_NSCLC_TMA_86_C_s0_a52_ac_ilastik_s2_Probabilitiescells_mask.tiff', '2020120_LC_NSCLC_TMA_86_C_s0_a12_ac_ilastik_s2_Probabilitiescells_mask.tiff', '2020120_LC_NSCLC_TMA_86_C_s0_a43_ac_ilastik_s2_Probabilitiescells_mask.tiff', '2020120_LC_NSCLC_TMA_86_C_s0_a76_ac_ilastik_s2_Probabilitiescells_mask.tiff', '2020120_LC_NSCLC_TMA_86_C_s0_a29_ac_ilastik_s2_Probabilitiescells_mask.tiff', '2020120_LC_NSCLC_TMA_86_C_s0_a25_ac_ilastik_s2_Probabilitiescells_mask.tiff', '2020120_LC_NSCLC_TMA_86_C_s0_a54_ac_ilastik_s2_Probabilitiescells_mask.tiff', '2020120_LC_NSCLC_TMA_86_C_s0_a40_ac_ilastik_s2_Probabilitiescells_mask.tiff', '2020120_LC_NSCLC_TMA_86_C_s0_a4_ac_ilastik_s2_Probabilitiescells_mask.tiff', '2020120_LC_NSCLC_TMA_86_C_s0_a60_ac_ilastik_s2_Probabilitiescells_mask.tiff', '2020120_LC_NSCLC_TMA_86_C_s0_a1_ac_ilastik_s2_Probabilitiescells_mask.tiff', '2020120_LC_NSCLC_TMA_86_C_s0_a23_ac_ilastik_s2_Probabilitiescells_mask.tiff', '2020120_LC_NSCLC_TMA_86_C_s0_a65_ac_ilastik_s2_Probabilitiescells_mask.tiff', '2020120_LC_NSCLC_TMA_86_C_s0_a66_ac_ilastik_s2_Probabilitiescells_mask.tiff', '2020120_LC_NSCLC_TMA_86_C_s0_a45_ac_ilastik_s2_Probabilitiescells_mask.tiff', '2020120_LC_NSCLC_TMA_86_C_s0_a102_ac_ilastik_s2_Probabilitiescells_mask.tiff', '2020120_LC_NSCLC_TMA_86_C_s0_a55_ac_ilastik_s2_Probabilitiescells_mask.tiff', '2020120_LC_NSCLC_TMA_86_C_s0_a78_ac_ilastik_s2_Probabilitiescells_mask.tiff', '2020120_LC_NSCLC_TMA_86_C_s0_a11_ac_ilastik_s2_Probabilitiescells_mask.tiff', '2020120_LC_NSCLC_TMA_86_C_s0_a62_ac_ilastik_s2_Probabilitiescells_mask.tiff', '2020120_LC_NSCLC_TMA_86_C_s0_a80_ac_ilastik_s2_Probabilitiescells_mask.tiff', '2020120_LC_NSCLC_TMA_86_C_s0_a81_ac_ilastik_s2_Probabilitiescells_mask.tiff', '2020120_LC_NSCLC_TMA_86_C_s0_a99_ac_ilastik_s2_Probabilitiescells_mask.tiff', '2020120_LC_NSCLC_TMA_86_C_s0_a18_ac_ilastik_s2_Probabilitiescells_mask.tiff', '2020120_LC_NSCLC_TMA_86_C_s0_a24_ac_ilastik_s2_Probabilitiescells_mask.tiff', '2020120_LC_NSCLC_TMA_86_C_s0_a49_ac_ilastik_s2_Probabilitiescells_mask.tiff', '2020120_LC_NSCLC_TMA_86_C_s0_a33_ac_ilastik_s2_Probabilitiescells_mask.tiff', '2020120_LC_NSCLC_TMA_86_C_s0_a42_ac_ilastik_s2_Probabilitiescells_mask.tiff', '2020120_LC_NSCLC_TMA_86_C_s0_a34_ac_ilastik_s2_Probabilitiescells_mask.tiff', '2020120_LC_NSCLC_TMA_86_C_s0_a50_ac_ilastik_s2_Probabilitiescells_mask.tiff', '2020120_LC_NSCLC_TMA_86_C_s0_a105_ac_ilastik_s2_Probabilitiescells_mask.tiff', '2020120_LC_NSCLC_TMA_86_C_s0_a57_ac_ilastik_s2_Probabilitiescells_mask.tiff', '2020120_LC_NSCLC_TMA_86_C_s0_a17_ac_ilastik_s2_Probabilitiescells_mask.tiff', '2020120_LC_NSCLC_TMA_86_C_s0_a51_ac_ilastik_s2_Probabilitiescells_mask.tiff', '2020120_LC_NSCLC_TMA_86_C_s0_a112_ac_ilastik_s2_Probabilitiescells_mask.tiff', '2020120_LC_NSCLC_TMA_86_C_s0_a28_ac_ilastik_s2_Probabilitiescells_mask.tiff', '2020120_LC_NSCLC_TMA_86_C_s0_a20_ac_ilastik_s2_Probabilitiescells_mask.tiff', '2020120_LC_NSCLC_TMA_86_C_s0_a85_ac_ilastik_s2_Probabilitiescells_mask.tiff'}\n",
      "2020120_LC_NSCLC_TMA_86_C_s0_a47_ac_ilastik_s2_Probabilitiescells_mask.tiff: ✅ Identical\n",
      "2020120_LC_NSCLC_TMA_86_C_s0_a98_ac_ilastik_s2_Probabilitiescells_mask.tiff: ✅ Identical\n",
      "2020120_LC_NSCLC_TMA_86_C_s0_a90_ac_ilastik_s2_Probabilitiescells_mask.tiff: ✅ Identical\n",
      "2020120_LC_NSCLC_TMA_86_C_s0_a39_ac_ilastik_s2_Probabilitiescells_mask.tiff: ✅ Identical\n",
      "2020120_LC_NSCLC_TMA_86_C_s0_a88_ac_ilastik_s2_Probabilitiescells_mask.tiff: ✅ Identical\n",
      "2020120_LC_NSCLC_TMA_86_C_s0_a71_ac_ilastik_s2_Probabilitiescells_mask.tiff: ✅ Identical\n",
      "2020120_LC_NSCLC_TMA_86_C_s0_a26_ac_ilastik_s2_Probabilitiescells_mask.tiff: ✅ Identical\n",
      "2020120_LC_NSCLC_TMA_86_C_s0_a53_ac_ilastik_s2_Probabilitiescells_mask.tiff: ✅ Identical\n",
      "2020120_LC_NSCLC_TMA_86_C_s0_a31_ac_ilastik_s2_Probabilitiescells_mask.tiff: ✅ Identical\n",
      "2020120_LC_NSCLC_TMA_86_C_s0_a100_ac_ilastik_s2_Probabilitiescells_mask.tiff: ✅ Identical\n",
      "2020120_LC_NSCLC_TMA_86_C_s0_a35_ac_ilastik_s2_Probabilitiescells_mask.tiff: ✅ Identical\n",
      "2020120_LC_NSCLC_TMA_86_C_s0_a3_ac_ilastik_s2_Probabilitiescells_mask.tiff: ✅ Identical\n",
      "2020120_LC_NSCLC_TMA_86_C_s0_a91_ac_ilastik_s2_Probabilitiescells_mask.tiff: ✅ Identical\n",
      "2020120_LC_NSCLC_TMA_86_C_s0_a37_ac_ilastik_s2_Probabilitiescells_mask.tiff: ✅ Identical\n",
      "2020120_LC_NSCLC_TMA_86_C_s0_a52_ac_ilastik_s2_Probabilitiescells_mask.tiff: ✅ Identical\n",
      "2020120_LC_NSCLC_TMA_86_C_s0_a12_ac_ilastik_s2_Probabilitiescells_mask.tiff: ✅ Identical\n",
      "2020120_LC_NSCLC_TMA_86_C_s0_a43_ac_ilastik_s2_Probabilitiescells_mask.tiff: ✅ Identical\n",
      "2020120_LC_NSCLC_TMA_86_C_s0_a76_ac_ilastik_s2_Probabilitiescells_mask.tiff: ✅ Identical\n",
      "2020120_LC_NSCLC_TMA_86_C_s0_a29_ac_ilastik_s2_Probabilitiescells_mask.tiff: ✅ Identical\n",
      "2020120_LC_NSCLC_TMA_86_C_s0_a25_ac_ilastik_s2_Probabilitiescells_mask.tiff: ✅ Identical\n",
      "2020120_LC_NSCLC_TMA_86_C_s0_a54_ac_ilastik_s2_Probabilitiescells_mask.tiff: ✅ Identical\n",
      "2020120_LC_NSCLC_TMA_86_C_s0_a40_ac_ilastik_s2_Probabilitiescells_mask.tiff: ✅ Identical\n",
      "2020120_LC_NSCLC_TMA_86_C_s0_a4_ac_ilastik_s2_Probabilitiescells_mask.tiff: ✅ Identical\n",
      "2020120_LC_NSCLC_TMA_86_C_s0_a60_ac_ilastik_s2_Probabilitiescells_mask.tiff: ✅ Identical\n",
      "2020120_LC_NSCLC_TMA_86_C_s0_a1_ac_ilastik_s2_Probabilitiescells_mask.tiff: ✅ Identical\n",
      "2020120_LC_NSCLC_TMA_86_C_s0_a23_ac_ilastik_s2_Probabilitiescells_mask.tiff: ✅ Identical\n",
      "2020120_LC_NSCLC_TMA_86_C_s0_a65_ac_ilastik_s2_Probabilitiescells_mask.tiff: ✅ Identical\n",
      "2020120_LC_NSCLC_TMA_86_C_s0_a66_ac_ilastik_s2_Probabilitiescells_mask.tiff: ✅ Identical\n",
      "2020120_LC_NSCLC_TMA_86_C_s0_a45_ac_ilastik_s2_Probabilitiescells_mask.tiff: ✅ Identical\n",
      "2020120_LC_NSCLC_TMA_86_C_s0_a102_ac_ilastik_s2_Probabilitiescells_mask.tiff: ✅ Identical\n",
      "2020120_LC_NSCLC_TMA_86_C_s0_a55_ac_ilastik_s2_Probabilitiescells_mask.tiff: ✅ Identical\n",
      "2020120_LC_NSCLC_TMA_86_C_s0_a78_ac_ilastik_s2_Probabilitiescells_mask.tiff: ✅ Identical\n",
      "2020120_LC_NSCLC_TMA_86_C_s0_a11_ac_ilastik_s2_Probabilitiescells_mask.tiff: ✅ Identical\n",
      "2020120_LC_NSCLC_TMA_86_C_s0_a62_ac_ilastik_s2_Probabilitiescells_mask.tiff: ✅ Identical\n",
      "2020120_LC_NSCLC_TMA_86_C_s0_a80_ac_ilastik_s2_Probabilitiescells_mask.tiff: ✅ Identical\n",
      "2020120_LC_NSCLC_TMA_86_C_s0_a81_ac_ilastik_s2_Probabilitiescells_mask.tiff: ✅ Identical\n",
      "2020120_LC_NSCLC_TMA_86_C_s0_a99_ac_ilastik_s2_Probabilitiescells_mask.tiff: ✅ Identical\n",
      "2020120_LC_NSCLC_TMA_86_C_s0_a18_ac_ilastik_s2_Probabilitiescells_mask.tiff: ✅ Identical\n",
      "2020120_LC_NSCLC_TMA_86_C_s0_a24_ac_ilastik_s2_Probabilitiescells_mask.tiff: ✅ Identical\n",
      "2020120_LC_NSCLC_TMA_86_C_s0_a49_ac_ilastik_s2_Probabilitiescells_mask.tiff: ✅ Identical\n",
      "2020120_LC_NSCLC_TMA_86_C_s0_a33_ac_ilastik_s2_Probabilitiescells_mask.tiff: ✅ Identical\n",
      "2020120_LC_NSCLC_TMA_86_C_s0_a42_ac_ilastik_s2_Probabilitiescells_mask.tiff: ✅ Identical\n",
      "2020120_LC_NSCLC_TMA_86_C_s0_a34_ac_ilastik_s2_Probabilitiescells_mask.tiff: ✅ Identical\n",
      "2020120_LC_NSCLC_TMA_86_C_s0_a50_ac_ilastik_s2_Probabilitiescells_mask.tiff: ✅ Identical\n",
      "2020120_LC_NSCLC_TMA_86_C_s0_a105_ac_ilastik_s2_Probabilitiescells_mask.tiff: ✅ Identical\n",
      "2020120_LC_NSCLC_TMA_86_C_s0_a57_ac_ilastik_s2_Probabilitiescells_mask.tiff: ✅ Identical\n",
      "2020120_LC_NSCLC_TMA_86_C_s0_a17_ac_ilastik_s2_Probabilitiescells_mask.tiff: ✅ Identical\n",
      "2020120_LC_NSCLC_TMA_86_C_s0_a51_ac_ilastik_s2_Probabilitiescells_mask.tiff: ✅ Identical\n",
      "2020120_LC_NSCLC_TMA_86_C_s0_a112_ac_ilastik_s2_Probabilitiescells_mask.tiff: ✅ Identical\n",
      "2020120_LC_NSCLC_TMA_86_C_s0_a28_ac_ilastik_s2_Probabilitiescells_mask.tiff: ✅ Identical\n",
      "2020120_LC_NSCLC_TMA_86_C_s0_a20_ac_ilastik_s2_Probabilitiescells_mask.tiff: ✅ Identical\n",
      "2020120_LC_NSCLC_TMA_86_C_s0_a85_ac_ilastik_s2_Probabilitiescells_mask.tiff: ✅ Identical\n"
     ]
    }
   ],
   "source": [
    "# Define directories\n",
    "dir1 = \"/work/FAC/FBM/DBC/mrapsoma/prometex/data/NSCLC/01_raw/Cell_masks/86_B_mask/\"\n",
    "dir2 = \"/work/FAC/FBM/DBC/mrapsoma/prometex/data/NSCLC/01_raw/Cell_masks/86_C_mask/\"\n",
    "\n",
    "# Get list of files in both directories\n",
    "files1 = set(os.listdir(dir1))\n",
    "files2 = set(os.listdir(dir2))\n",
    "renamed_files = {file: file.replace(\"_new.tiff\", \".tiff\") for file in files2}\n",
    "second_names = list(renamed_files.values())\n",
    "second_names\n",
    "\n",
    "# Find common files (files that exist in both directories)\n",
    "common_files = files1.intersection(second_names)\n",
    "\n",
    "print(common_files)\n",
    "\n",
    "# Compare images\n",
    "for file in common_files:\n",
    "    path1 = os.path.join(dir1, file)\n",
    "    path2 = os.path.join(dir2, file.replace('.tiff', '_new.tiff'))\n",
    "\n",
    "    # Open images\n",
    "    img1 = Image.open(path1)\n",
    "    img2 = Image.open(path2)\n",
    "\n",
    "    # Convert to numpy arrays\n",
    "    arr1 = np.array(img1)\n",
    "    arr2 = np.array(img2)\n",
    "\n",
    "    # Check if images are exactly the same\n",
    "    if np.array_equal(arr1, arr2):\n",
    "        print(f\"{file}: ✅ Identical\")\n",
    "    else:\n",
    "        print(f\"{file}: ❌ Different\")"
   ]
  },
  {
   "cell_type": "code",
   "execution_count": 5,
   "metadata": {},
   "outputs": [
    {
     "name": "stdout",
     "output_type": "stream",
     "text": [
      "20210112_LC_NSCLC_TMA_176_B_s0_a1_ac_ilastik_s2_Probabilitiescells_mask.tiff: ✅ Identical\n",
      "20210112_LC_NSCLC_TMA_176_B_s0_a72_ac_ilastik_s2_Probabilitiescells_mask.tiff: ✅ Identical\n",
      "20210112_LC_NSCLC_TMA_176_B_s0_a62_ac_ilastik_s2_Probabilitiescells_mask.tiff: ✅ Identical\n",
      "20210112_LC_NSCLC_TMA_176_B_s0_a12_ac_ilastik_s2_Probabilitiescells_mask.tiff: ✅ Identical\n",
      "20210112_LC_NSCLC_TMA_176_B_s0_a117_ac_ilastik_s2_Probabilitiescells_mask.tiff: ✅ Identical\n",
      "20210112_LC_NSCLC_TMA_176_B_s0_a100_ac_ilastik_s2_Probabilitiescells_mask.tiff: ✅ Identical\n",
      "20210112_LC_NSCLC_TMA_176_B_s0_a65_ac_ilastik_s2_Probabilitiescells_mask.tiff: ✅ Identical\n",
      "20210112_LC_NSCLC_TMA_176_B_s0_a7_ac_ilastik_s2_Probabilitiescells_mask.tiff: ✅ Identical\n",
      "20210112_LC_NSCLC_TMA_176_B_s0_a54_ac_ilastik_s2_Probabilitiescells_mask.tiff: ✅ Identical\n",
      "20210112_LC_NSCLC_TMA_176_B_s0_a49_ac_ilastik_s2_Probabilitiescells_mask.tiff: ✅ Identical\n",
      "20210112_LC_NSCLC_TMA_176_B_s0_a102_ac_ilastik_s2_Probabilitiescells_mask.tiff: ✅ Identical\n",
      "20210112_LC_NSCLC_TMA_176_B_s0_a26_ac_ilastik_s2_Probabilitiescells_mask.tiff: ✅ Identical\n",
      "20210112_LC_NSCLC_TMA_176_B_s0_a113_ac_ilastik_s2_Probabilitiescells_mask.tiff: ✅ Identical\n",
      "20210112_LC_NSCLC_TMA_176_B_s0_a43_ac_ilastik_s2_Probabilitiescells_mask.tiff: ✅ Identical\n",
      "20210112_LC_NSCLC_TMA_176_B_s0_a85_ac_ilastik_s2_Probabilitiescells_mask.tiff: ✅ Identical\n",
      "20210112_LC_NSCLC_TMA_176_B_s0_a23_ac_ilastik_s2_Probabilitiescells_mask.tiff: ✅ Identical\n",
      "20210112_LC_NSCLC_TMA_176_B_s0_a92_ac_ilastik_s2_Probabilitiescells_mask.tiff: ✅ Identical\n",
      "20210112_LC_NSCLC_TMA_176_B_s0_a48_ac_ilastik_s2_Probabilitiescells_mask.tiff: ✅ Identical\n",
      "20210112_LC_NSCLC_TMA_176_B_s0_a46_ac_ilastik_s2_Probabilitiescells_mask.tiff: ✅ Identical\n",
      "20210112_LC_NSCLC_TMA_176_B_s0_a95_ac_ilastik_s2_Probabilitiescells_mask.tiff: ✅ Identical\n",
      "20210112_LC_NSCLC_TMA_176_B_s0_a90_ac_ilastik_s2_Probabilitiescells_mask.tiff: ✅ Identical\n",
      "20210112_LC_NSCLC_TMA_176_B_s0_a80_ac_ilastik_s2_Probabilitiescells_mask.tiff: ✅ Identical\n",
      "20210112_LC_NSCLC_TMA_176_B_s0_a104_ac_ilastik_s2_Probabilitiescells_mask.tiff: ✅ Identical\n",
      "20210112_LC_NSCLC_TMA_176_B_s0_a127_ac_ilastik_s2_Probabilitiescells_mask.tiff: ✅ Identical\n",
      "20210112_LC_NSCLC_TMA_176_B_s0_a55_ac_ilastik_s2_Probabilitiescells_mask.tiff: ✅ Identical\n",
      "20210112_LC_NSCLC_TMA_176_B_s0_a24_ac_ilastik_s2_Probabilitiescells_mask.tiff: ✅ Identical\n",
      "20210112_LC_NSCLC_TMA_176_B_s0_a108_ac_ilastik_s2_Probabilitiescells_mask.tiff: ✅ Identical\n",
      "20210112_LC_NSCLC_TMA_176_B_s0_a106_ac_ilastik_s2_Probabilitiescells_mask.tiff: ✅ Identical\n",
      "20210112_LC_NSCLC_TMA_176_B_s0_a60_ac_ilastik_s2_Probabilitiescells_mask.tiff: ✅ Identical\n",
      "20210112_LC_NSCLC_TMA_176_B_s0_a44_ac_ilastik_s2_Probabilitiescells_mask.tiff: ✅ Identical\n",
      "20210112_LC_NSCLC_TMA_176_B_s0_a50_ac_ilastik_s2_Probabilitiescells_mask.tiff: ✅ Identical\n",
      "20210112_LC_NSCLC_TMA_176_B_s0_a38_ac_ilastik_s2_Probabilitiescells_mask.tiff: ✅ Identical\n",
      "20210112_LC_NSCLC_TMA_176_B_s0_a68_ac_ilastik_s2_Probabilitiescells_mask.tiff: ✅ Identical\n",
      "20210112_LC_NSCLC_TMA_176_B_s0_a47_ac_ilastik_s2_Probabilitiescells_mask.tiff: ✅ Identical\n",
      "20210112_LC_NSCLC_TMA_176_B_s0_a67_ac_ilastik_s2_Probabilitiescells_mask.tiff: ✅ Identical\n",
      "20210112_LC_NSCLC_TMA_176_B_s0_a29_ac_ilastik_s2_Probabilitiescells_mask.tiff: ✅ Identical\n",
      "20210112_LC_NSCLC_TMA_176_B_s0_a86_ac_ilastik_s2_Probabilitiescells_mask.tiff: ✅ Identical\n",
      "20210112_LC_NSCLC_TMA_176_B_s0_a19_ac_ilastik_s2_Probabilitiescells_mask.tiff: ✅ Identical\n",
      "20210112_LC_NSCLC_TMA_176_B_s0_a94_ac_ilastik_s2_Probabilitiescells_mask.tiff: ✅ Identical\n",
      "20210112_LC_NSCLC_TMA_176_B_s0_a57_ac_ilastik_s2_Probabilitiescells_mask.tiff: ✅ Identical\n",
      "20210112_LC_NSCLC_TMA_176_B_s0_a89_ac_ilastik_s2_Probabilitiescells_mask.tiff: ✅ Identical\n",
      "20210112_LC_NSCLC_TMA_176_B_s0_a64_ac_ilastik_s2_Probabilitiescells_mask.tiff: ✅ Identical\n",
      "20210112_LC_NSCLC_TMA_176_B_s0_a88_ac_ilastik_s2_Probabilitiescells_mask.tiff: ✅ Identical\n",
      "20210112_LC_NSCLC_TMA_176_B_s0_a21_ac_ilastik_s2_Probabilitiescells_mask.tiff: ✅ Identical\n",
      "20210112_LC_NSCLC_TMA_176_B_s0_a63_ac_ilastik_s2_Probabilitiescells_mask.tiff: ✅ Identical\n",
      "20210112_LC_NSCLC_TMA_176_B_s0_a77_ac_ilastik_s2_Probabilitiescells_mask.tiff: ✅ Identical\n",
      "20210112_LC_NSCLC_TMA_176_B_s0_a14_ac_ilastik_s2_Probabilitiescells_mask.tiff: ✅ Identical\n",
      "20210112_LC_NSCLC_TMA_176_B_s0_a61_ac_ilastik_s2_Probabilitiescells_mask.tiff: ✅ Identical\n",
      "20210112_LC_NSCLC_TMA_176_B_s0_a34_ac_ilastik_s2_Probabilitiescells_mask.tiff: ✅ Identical\n",
      "20210112_LC_NSCLC_TMA_176_B_s0_a115_ac_ilastik_s2_Probabilitiescells_mask.tiff: ✅ Identical\n",
      "20210112_LC_NSCLC_TMA_176_B_s0_a51_ac_ilastik_s2_Probabilitiescells_mask.tiff: ✅ Identical\n",
      "20210112_LC_NSCLC_TMA_176_B_s0_a20_ac_ilastik_s2_Probabilitiescells_mask.tiff: ✅ Identical\n",
      "20210112_LC_NSCLC_TMA_176_B_s0_a8_ac_ilastik_s2_Probabilitiescells_mask.tiff: ✅ Identical\n",
      "20210112_LC_NSCLC_TMA_176_B_s0_a124_ac_ilastik_s2_Probabilitiescells_mask.tiff: ✅ Identical\n",
      "20210112_LC_NSCLC_TMA_176_B_s0_a32_ac_ilastik_s2_Probabilitiescells_mask.tiff: ✅ Identical\n",
      "20210112_LC_NSCLC_TMA_176_B_s0_a103_ac_ilastik_s2_Probabilitiescells_mask.tiff: ✅ Identical\n",
      "20210112_LC_NSCLC_TMA_176_B_s0_a28_ac_ilastik_s2_Probabilitiescells_mask.tiff: ✅ Identical\n",
      "20210112_LC_NSCLC_TMA_176_B_s0_a22_ac_ilastik_s2_Probabilitiescells_mask.tiff: ✅ Identical\n",
      "20210112_LC_NSCLC_TMA_176_B_s0_a36_ac_ilastik_s2_Probabilitiescells_mask.tiff: ✅ Identical\n",
      "20210112_LC_NSCLC_TMA_176_B_s0_a2_ac_ilastik_s2_Probabilitiescells_mask.tiff: ✅ Identical\n",
      "20210112_LC_NSCLC_TMA_176_B_s0_a71_ac_ilastik_s2_Probabilitiescells_mask.tiff: ✅ Identical\n",
      "20210112_LC_NSCLC_TMA_176_B_s0_a81_ac_ilastik_s2_Probabilitiescells_mask.tiff: ✅ Identical\n",
      "20210112_LC_NSCLC_TMA_176_B_s0_a59_ac_ilastik_s2_Probabilitiescells_mask.tiff: ✅ Identical\n",
      "20210112_LC_NSCLC_TMA_176_B_s0_a15_ac_ilastik_s2_Probabilitiescells_mask.tiff: ✅ Identical\n",
      "20210112_LC_NSCLC_TMA_176_B_s0_a125_ac_ilastik_s2_Probabilitiescells_mask.tiff: ✅ Identical\n",
      "20210112_LC_NSCLC_TMA_176_B_s0_a35_ac_ilastik_s2_Probabilitiescells_mask.tiff: ✅ Identical\n",
      "20210112_LC_NSCLC_TMA_176_B_s0_a42_ac_ilastik_s2_Probabilitiescells_mask.tiff: ✅ Identical\n",
      "20210112_LC_NSCLC_TMA_176_B_s0_a40_ac_ilastik_s2_Probabilitiescells_mask.tiff: ✅ Identical\n",
      "20210112_LC_NSCLC_TMA_176_B_s0_a119_ac_ilastik_s2_Probabilitiescells_mask.tiff: ✅ Identical\n",
      "20210112_LC_NSCLC_TMA_176_B_s0_a121_ac_ilastik_s2_Probabilitiescells_mask.tiff: ✅ Identical\n",
      "20210112_LC_NSCLC_TMA_176_B_s0_a70_ac_ilastik_s2_Probabilitiescells_mask.tiff: ✅ Identical\n",
      "20210112_LC_NSCLC_TMA_176_B_s0_a45_ac_ilastik_s2_Probabilitiescells_mask.tiff: ✅ Identical\n",
      "20210112_LC_NSCLC_TMA_176_B_s0_a33_ac_ilastik_s2_Probabilitiescells_mask.tiff: ✅ Identical\n",
      "20210112_LC_NSCLC_TMA_176_B_s0_a39_ac_ilastik_s2_Probabilitiescells_mask.tiff: ✅ Identical\n",
      "20210112_LC_NSCLC_TMA_176_B_s0_a66_ac_ilastik_s2_Probabilitiescells_mask.tiff: ✅ Identical\n",
      "20210112_LC_NSCLC_TMA_176_B_s0_a109_ac_ilastik_s2_Probabilitiescells_mask.tiff: ✅ Identical\n",
      "20210112_LC_NSCLC_TMA_176_B_s0_a128_ac_ilastik_s2_Probabilitiescells_mask.tiff: ✅ Identical\n",
      "20210112_LC_NSCLC_TMA_176_B_s0_a11_ac_ilastik_s2_Probabilitiescells_mask.tiff: ✅ Identical\n",
      "20210112_LC_NSCLC_TMA_176_B_s0_a91_ac_ilastik_s2_Probabilitiescells_mask.tiff: ✅ Identical\n",
      "20210112_LC_NSCLC_TMA_176_B_s0_a110_ac_ilastik_s2_Probabilitiescells_mask.tiff: ✅ Identical\n",
      "20210112_LC_NSCLC_TMA_176_B_s0_a69_ac_ilastik_s2_Probabilitiescells_mask.tiff: ✅ Identical\n",
      "20210112_LC_NSCLC_TMA_176_B_s0_a4_ac_ilastik_s2_Probabilitiescells_mask.tiff: ✅ Identical\n",
      "20210112_LC_NSCLC_TMA_176_B_s0_a9_ac_ilastik_s2_Probabilitiescells_mask.tiff: ✅ Identical\n",
      "20210112_LC_NSCLC_TMA_176_B_s0_a83_ac_ilastik_s2_Probabilitiescells_mask.tiff: ✅ Identical\n",
      "20210112_LC_NSCLC_TMA_176_B_s0_a79_ac_ilastik_s2_Probabilitiescells_mask.tiff: ✅ Identical\n",
      "20210112_LC_NSCLC_TMA_176_B_s0_a13_ac_ilastik_s2_Probabilitiescells_mask.tiff: ✅ Identical\n",
      "20210112_LC_NSCLC_TMA_176_B_s0_a84_ac_ilastik_s2_Probabilitiescells_mask.tiff: ✅ Identical\n",
      "20210112_LC_NSCLC_TMA_176_B_s0_a126_ac_ilastik_s2_Probabilitiescells_mask.tiff: ✅ Identical\n",
      "20210112_LC_NSCLC_TMA_176_B_s0_a75_ac_ilastik_s2_Probabilitiescells_mask.tiff: ✅ Identical\n",
      "20210112_LC_NSCLC_TMA_176_B_s0_a58_ac_ilastik_s2_Probabilitiescells_mask.tiff: ✅ Identical\n",
      "20210112_LC_NSCLC_TMA_176_B_s0_a116_ac_ilastik_s2_Probabilitiescells_mask.tiff: ✅ Identical\n",
      "20210112_LC_NSCLC_TMA_176_B_s0_a107_ac_ilastik_s2_Probabilitiescells_mask.tiff: ✅ Identical\n",
      "20210112_LC_NSCLC_TMA_176_B_s0_a37_ac_ilastik_s2_Probabilitiescells_mask.tiff: ✅ Identical\n",
      "20210112_LC_NSCLC_TMA_176_B_s0_a18_ac_ilastik_s2_Probabilitiescells_mask.tiff: ✅ Identical\n",
      "20210112_LC_NSCLC_TMA_176_B_s0_a10_ac_ilastik_s2_Probabilitiescells_mask.tiff: ✅ Identical\n",
      "20210112_LC_NSCLC_TMA_176_B_s0_a82_ac_ilastik_s2_Probabilitiescells_mask.tiff: ✅ Identical\n",
      "20210112_LC_NSCLC_TMA_176_B_s0_a16_ac_ilastik_s2_Probabilitiescells_mask.tiff: ✅ Identical\n",
      "20210112_LC_NSCLC_TMA_176_B_s0_a31_ac_ilastik_s2_Probabilitiescells_mask.tiff: ✅ Identical\n",
      "20210112_LC_NSCLC_TMA_176_B_s0_a6_ac_ilastik_s2_Probabilitiescells_mask.tiff: ✅ Identical\n",
      "20210112_LC_NSCLC_TMA_176_B_s0_a25_ac_ilastik_s2_Probabilitiescells_mask.tiff: ✅ Identical\n",
      "20210112_LC_NSCLC_TMA_176_B_s0_a78_ac_ilastik_s2_Probabilitiescells_mask.tiff: ✅ Identical\n",
      "20210112_LC_NSCLC_TMA_176_B_s0_a73_ac_ilastik_s2_Probabilitiescells_mask.tiff: ✅ Identical\n",
      "20210112_LC_NSCLC_TMA_176_B_s0_a30_ac_ilastik_s2_Probabilitiescells_mask.tiff: ✅ Identical\n",
      "20210112_LC_NSCLC_TMA_176_B_s0_a53_ac_ilastik_s2_Probabilitiescells_mask.tiff: ✅ Identical\n",
      "20210112_LC_NSCLC_TMA_176_B_s0_a3_ac_ilastik_s2_Probabilitiescells_mask.tiff: ✅ Identical\n",
      "20210112_LC_NSCLC_TMA_176_B_s0_a112_ac_ilastik_s2_Probabilitiescells_mask.tiff: ✅ Identical\n",
      "20210112_LC_NSCLC_TMA_176_B_s0_a101_ac_ilastik_s2_Probabilitiescells_mask.tiff: ✅ Identical\n",
      "20210112_LC_NSCLC_TMA_176_B_s0_a122_ac_ilastik_s2_Probabilitiescells_mask.tiff: ✅ Identical\n",
      "20210112_LC_NSCLC_TMA_176_B_s0_a105_ac_ilastik_s2_Probabilitiescells_mask.tiff: ✅ Identical\n",
      "20210112_LC_NSCLC_TMA_176_B_s0_a5_ac_ilastik_s2_Probabilitiescells_mask.tiff: ✅ Identical\n",
      "20210112_LC_NSCLC_TMA_176_B_s0_a97_ac_ilastik_s2_Probabilitiescells_mask.tiff: ✅ Identical\n",
      "20210112_LC_NSCLC_TMA_176_B_s0_a118_ac_ilastik_s2_Probabilitiescells_mask.tiff: ✅ Identical\n",
      "20210112_LC_NSCLC_TMA_176_B_s0_a17_ac_ilastik_s2_Probabilitiescells_mask.tiff: ✅ Identical\n",
      "20210112_LC_NSCLC_TMA_176_B_s0_a87_ac_ilastik_s2_Probabilitiescells_mask.tiff: ✅ Identical\n",
      "20210112_LC_NSCLC_TMA_176_B_s0_a56_ac_ilastik_s2_Probabilitiescells_mask.tiff: ✅ Identical\n",
      "20210112_LC_NSCLC_TMA_176_B_s0_a27_ac_ilastik_s2_Probabilitiescells_mask.tiff: ✅ Identical\n",
      "20210112_LC_NSCLC_TMA_176_B_s0_a41_ac_ilastik_s2_Probabilitiescells_mask.tiff: ✅ Identical\n",
      "20210112_LC_NSCLC_TMA_176_B_s0_a111_ac_ilastik_s2_Probabilitiescells_mask.tiff: ✅ Identical\n",
      "20210112_LC_NSCLC_TMA_176_B_s0_a98_ac_ilastik_s2_Probabilitiescells_mask.tiff: ✅ Identical\n",
      "20210112_LC_NSCLC_TMA_176_B_s0_a123_ac_ilastik_s2_Probabilitiescells_mask.tiff: ✅ Identical\n",
      "20210112_LC_NSCLC_TMA_176_B_s0_a93_ac_ilastik_s2_Probabilitiescells_mask.tiff: ✅ Identical\n",
      "20210112_LC_NSCLC_TMA_176_B_s0_a74_ac_ilastik_s2_Probabilitiescells_mask.tiff: ✅ Identical\n",
      "20210112_LC_NSCLC_TMA_176_B_s0_a120_ac_ilastik_s2_Probabilitiescells_mask.tiff: ✅ Identical\n",
      "20210112_LC_NSCLC_TMA_176_B_s0_a114_ac_ilastik_s2_Probabilitiescells_mask.tiff: ✅ Identical\n",
      "20210112_LC_NSCLC_TMA_176_B_s0_a96_ac_ilastik_s2_Probabilitiescells_mask.tiff: ✅ Identical\n",
      "20210112_LC_NSCLC_TMA_176_B_s0_a76_ac_ilastik_s2_Probabilitiescells_mask.tiff: ✅ Identical\n",
      "20210112_LC_NSCLC_TMA_176_B_s0_a52_ac_ilastik_s2_Probabilitiescells_mask.tiff: ✅ Identical\n"
     ]
    }
   ],
   "source": [
    "dir1 = '/work/FAC/FBM/DBC/mrapsoma/prometex/data/NSCLC/01_raw/Cell_masks/178_B_mask/'\n",
    "dir2 = '/work/FAC/FBM/DBC/mrapsoma/prometex/data/NSCLC/01_raw/Cell_masks/176_B_mask/'\n",
    "\n",
    "# Get list of files\n",
    "files1 = set(os.listdir(dir1))\n",
    "files2 = set(os.listdir(dir2))\n",
    "\n",
    "# Find common files\n",
    "common_files = files1.intersection(files2)\n",
    "\n",
    "# Compare images\n",
    "for file in common_files:\n",
    "    path1 = os.path.join(dir1, file)\n",
    "    path2 = os.path.join(dir2, file)\n",
    "\n",
    "    # Open images\n",
    "    img1 = Image.open(path1)\n",
    "    img2 = Image.open(path2)\n",
    "\n",
    "    # Convert to numpy arrays\n",
    "    arr1 = np.array(img1)\n",
    "    arr2 = np.array(img2)\n",
    "\n",
    "    # Check if images are exactly the same\n",
    "    if np.array_equal(arr1, arr2):\n",
    "        print(f\"{file}: ✅ Identical\")\n",
    "    else:\n",
    "        print(f\"{file}: ❌ Different\")"
   ]
  },
  {
   "cell_type": "code",
   "execution_count": null,
   "metadata": {},
   "outputs": [],
   "source": []
  },
  {
   "cell_type": "code",
   "execution_count": null,
   "metadata": {},
   "outputs": [],
   "source": []
  },
  {
   "cell_type": "code",
   "execution_count": null,
   "metadata": {},
   "outputs": [],
   "source": []
  }
 ],
 "metadata": {
  "kernelspec": {
   "display_name": "source_env",
   "language": "python",
   "name": "python3"
  },
  "language_info": {
   "codemirror_mode": {
    "name": "ipython",
    "version": 3
   },
   "file_extension": ".py",
   "mimetype": "text/x-python",
   "name": "python",
   "nbconvert_exporter": "python",
   "pygments_lexer": "ipython3",
   "version": "3.11.11"
  }
 },
 "nbformat": 4,
 "nbformat_minor": 2
}
